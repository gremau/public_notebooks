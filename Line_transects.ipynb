{
 "cells": [
  {
   "cell_type": "markdown",
   "metadata": {},
   "source": [
    "# Mojave C climosequence line-intercept veg data"
   ]
  },
  {
   "cell_type": "markdown",
   "metadata": {},
   "source": [
    "## Creosote line transects\n"
   ]
  },
  {
   "cell_type": "code",
   "execution_count": 11,
   "metadata": {
    "collapsed": false
   },
   "outputs": [
    {
     "data": {
      "text/html": [
       "<table>\n",
       "<thead><tr><th scope=col>year</th><th scope=col>season</th><th scope=col>site</th><th scope=col>transect</th><th scope=col>start</th><th scope=col>stop</th><th scope=col>species</th><th scope=col>condition</th><th scope=col>notes</th></tr></thead>\n",
       "<tbody>\n",
       "\t<tr><td>2017       </td><td>winter     </td><td>Creosote   </td><td>1          </td><td>0.00       </td><td>0.81       </td><td>soil       </td><td>           </td><td>NA         </td></tr>\n",
       "\t<tr><td>2017       </td><td>winter     </td><td>Creosote   </td><td>1          </td><td>0.81       </td><td>1.02       </td><td>biocrust   </td><td>           </td><td>NA         </td></tr>\n",
       "\t<tr><td>2017       </td><td>winter     </td><td>Creosote   </td><td>1          </td><td>1.02       </td><td>1.46       </td><td>soil       </td><td>           </td><td>NA         </td></tr>\n",
       "\t<tr><td>2017       </td><td>winter     </td><td>Creosote   </td><td>1          </td><td>1.46       </td><td>3.80       </td><td>creosote   </td><td>           </td><td>NA         </td></tr>\n",
       "\t<tr><td>2017       </td><td>winter     </td><td>Creosote   </td><td>1          </td><td>3.50       </td><td>3.70       </td><td>unk shrub  </td><td>dead       </td><td>NA         </td></tr>\n",
       "\t<tr><td>2017       </td><td>winter     </td><td>Creosote   </td><td>1          </td><td>3.80       </td><td>3.92       </td><td>unk grass 2</td><td>           </td><td>NA         </td></tr>\n",
       "</tbody>\n",
       "</table>\n"
      ],
      "text/latex": [
       "\\begin{tabular}{r|lllllllll}\n",
       " year & season & site & transect & start & stop & species & condition & notes\\\\\n",
       "\\hline\n",
       "\t 2017        & winter      & Creosote    & 1           & 0.00        & 0.81        & soil        &             & NA         \\\\\n",
       "\t 2017        & winter      & Creosote    & 1           & 0.81        & 1.02        & biocrust    &             & NA         \\\\\n",
       "\t 2017        & winter      & Creosote    & 1           & 1.02        & 1.46        & soil        &             & NA         \\\\\n",
       "\t 2017        & winter      & Creosote    & 1           & 1.46        & 3.80        & creosote    &             & NA         \\\\\n",
       "\t 2017        & winter      & Creosote    & 1           & 3.50        & 3.70        & unk shrub   & dead        & NA         \\\\\n",
       "\t 2017        & winter      & Creosote    & 1           & 3.80        & 3.92        & unk grass 2 &             & NA         \\\\\n",
       "\\end{tabular}\n"
      ],
      "text/plain": [
       "  year season site     transect start stop species     condition notes\n",
       "1 2017 winter Creosote 1        0.00  0.81 soil                  NA   \n",
       "2 2017 winter Creosote 1        0.81  1.02 biocrust              NA   \n",
       "3 2017 winter Creosote 1        1.02  1.46 soil                  NA   \n",
       "4 2017 winter Creosote 1        1.46  3.80 creosote              NA   \n",
       "5 2017 winter Creosote 1        3.50  3.70 unk shrub   dead      NA   \n",
       "6 2017 winter Creosote 1        3.80  3.92 unk grass 2           NA   "
      ]
     },
     "metadata": {},
     "output_type": "display_data"
    },
    {
     "data": {
      "text/html": [
       "422"
      ],
      "text/latex": [
       "422"
      ],
      "text/markdown": [
       "422"
      ],
      "text/plain": [
       "[1] 422"
      ]
     },
     "metadata": {},
     "output_type": "display_data"
    }
   ],
   "source": [
    "require(dplyr)\n",
    "require(tidyr)\n",
    "\n",
    "veg.raw <- read.csv(\"~/data/gdrive_berkeley/MojaveCarbon/Data/VegTransects//LineTransects_Creosote.csv\", skip=1)\n",
    "head(veg.raw)\n",
    "\n",
    "###cleaning\n",
    "###########\n",
    "\n",
    "`%!in%` <- Negate(`%in%`) \n",
    "remove <- c(\"0\", \"LITT\", \"UNKNO\", \"ROCK\", \"SOIL\", \"1SOIL\", \"SOIIL\", \"UNK\", \"SHRUB\", \"BRASS\", \"BFORB\", \"BOER\", \"BOGR\", \"GRASS\")\n",
    "\n",
    "#veg.raw <- subset(veg.raw, species %!in% remove) \n",
    "nrow(veg.raw)\n",
    "\n",
    "veg.raw <- subset(veg.raw, condition != 'dead')\n",
    "\n",
    "\n",
    "####finding cover value per individual\n",
    "#######################################\n",
    "veg.raw$cover_cm <- veg.raw$stop - veg.raw$start\n",
    "\n",
    "#finding largest cover value between seasons \n",
    "veg.sum <- data.frame(summarise(group_by(veg.raw, year, species), cover_cm=sum(cover_cm)))\n",
    "veg.max <- data.frame(summarise(group_by(veg.sum, year, species), max.cover_cm = max(cover_cm)))\n",
    "\n",
    "veg.sum$functionaltype <- 'shrub'\n",
    "veg.sum$functionaltype[veg.sum$species%in%c('unk grass 2')] <- 'grass'\n",
    "veg.sum$functionaltype[veg.sum$species%in%c('soil')] <- 'soil'\n",
    "veg.sum$functionaltype[veg.sum$species%in%c('biocrust')] <- 'biocrust'\n",
    "\n",
    "veg.sum$pct_cover <- veg.sum$cover_cm/250\n",
    "\n",
    "veg.sum.ft <- data.frame(summarise(group_by(veg.sum, functionaltype), pct_cover=sum(pct_cover)))"
   ]
  },
  {
   "cell_type": "markdown",
   "metadata": {},
   "source": [
    "## Creosote tables by species and functional type\n",
    "\n",
    "The last number here is total cover"
   ]
  },
  {
   "cell_type": "code",
   "execution_count": 12,
   "metadata": {
    "collapsed": false
   },
   "outputs": [
    {
     "data": {
      "text/html": [
       "<table>\n",
       "<thead><tr><th scope=col>year</th><th scope=col>species</th><th scope=col>cover_cm</th><th scope=col>functionaltype</th><th scope=col>pct_cover</th></tr></thead>\n",
       "<tbody>\n",
       "\t<tr><td>2017       </td><td>Amsonia    </td><td>  1.96     </td><td>shrub      </td><td>0.00784    </td></tr>\n",
       "\t<tr><td>2017       </td><td>biocrust   </td><td>  7.67     </td><td>biocrust   </td><td>0.03068    </td></tr>\n",
       "\t<tr><td>2017       </td><td>Burro bush </td><td> 21.63     </td><td>shrub      </td><td>0.08652    </td></tr>\n",
       "\t<tr><td>2017       </td><td>creosote   </td><td> 38.32     </td><td>shrub      </td><td>0.15328    </td></tr>\n",
       "\t<tr><td>2017       </td><td>hopsage    </td><td>  0.61     </td><td>shrub      </td><td>0.00244    </td></tr>\n",
       "\t<tr><td>2017       </td><td>soil       </td><td>170.86     </td><td>soil       </td><td>0.68344    </td></tr>\n",
       "\t<tr><td>2017       </td><td>unk grass 2</td><td>  8.81     </td><td>grass      </td><td>0.03524    </td></tr>\n",
       "</tbody>\n",
       "</table>\n"
      ],
      "text/latex": [
       "\\begin{tabular}{r|lllll}\n",
       " year & species & cover\\_cm & functionaltype & pct\\_cover\\\\\n",
       "\\hline\n",
       "\t 2017        & Amsonia     &   1.96      & shrub       & 0.00784    \\\\\n",
       "\t 2017        & biocrust    &   7.67      & biocrust    & 0.03068    \\\\\n",
       "\t 2017        & Burro bush  &  21.63      & shrub       & 0.08652    \\\\\n",
       "\t 2017        & creosote    &  38.32      & shrub       & 0.15328    \\\\\n",
       "\t 2017        & hopsage     &   0.61      & shrub       & 0.00244    \\\\\n",
       "\t 2017        & soil        & 170.86      & soil        & 0.68344    \\\\\n",
       "\t 2017        & unk grass 2 &   8.81      & grass       & 0.03524    \\\\\n",
       "\\end{tabular}\n"
      ],
      "text/plain": [
       "  year species     cover_cm functionaltype pct_cover\n",
       "1 2017 Amsonia       1.96   shrub          0.00784  \n",
       "2 2017 biocrust      7.67   biocrust       0.03068  \n",
       "3 2017 Burro bush   21.63   shrub          0.08652  \n",
       "4 2017 creosote     38.32   shrub          0.15328  \n",
       "5 2017 hopsage       0.61   shrub          0.00244  \n",
       "6 2017 soil        170.86   soil           0.68344  \n",
       "7 2017 unk grass 2   8.81   grass          0.03524  "
      ]
     },
     "metadata": {},
     "output_type": "display_data"
    },
    {
     "data": {
      "text/html": [
       "<table>\n",
       "<thead><tr><th scope=col>functionaltype</th><th scope=col>pct_cover</th></tr></thead>\n",
       "<tbody>\n",
       "\t<tr><td>biocrust</td><td>0.03068 </td></tr>\n",
       "\t<tr><td>grass   </td><td>0.03524 </td></tr>\n",
       "\t<tr><td>shrub   </td><td>0.25008 </td></tr>\n",
       "\t<tr><td>soil    </td><td>0.68344 </td></tr>\n",
       "</tbody>\n",
       "</table>\n"
      ],
      "text/latex": [
       "\\begin{tabular}{r|ll}\n",
       " functionaltype & pct\\_cover\\\\\n",
       "\\hline\n",
       "\t biocrust & 0.03068 \\\\\n",
       "\t grass    & 0.03524 \\\\\n",
       "\t shrub    & 0.25008 \\\\\n",
       "\t soil     & 0.68344 \\\\\n",
       "\\end{tabular}\n"
      ],
      "text/plain": [
       "  functionaltype pct_cover\n",
       "1 biocrust       0.03068  \n",
       "2 grass          0.03524  \n",
       "3 shrub          0.25008  \n",
       "4 soil           0.68344  "
      ]
     },
     "metadata": {},
     "output_type": "display_data"
    },
    {
     "data": {
      "text/html": [
       "0.31656"
      ],
      "text/latex": [
       "0.31656"
      ],
      "text/markdown": [
       "0.31656"
      ],
      "text/plain": [
       "[1] 0.31656"
      ]
     },
     "metadata": {},
     "output_type": "display_data"
    }
   ],
   "source": [
    "veg.sum\n",
    "veg.sum.ft\n",
    "1 - sum(veg.sum$pct_cover[veg.sum$species%in%c('soil')])"
   ]
  },
  {
   "cell_type": "markdown",
   "metadata": {},
   "source": [
    "## Joshua tree"
   ]
  },
  {
   "cell_type": "code",
   "execution_count": 13,
   "metadata": {
    "collapsed": false
   },
   "outputs": [
    {
     "data": {
      "text/html": [
       "<table>\n",
       "<thead><tr><th scope=col>year</th><th scope=col>season</th><th scope=col>site</th><th scope=col>transect</th><th scope=col>start</th><th scope=col>stop</th><th scope=col>species</th><th scope=col>condition</th><th scope=col>notes</th></tr></thead>\n",
       "<tbody>\n",
       "\t<tr><td>2017       </td><td>winter     </td><td>JTree      </td><td>1          </td><td>0.00       </td><td>0.30       </td><td>soil       </td><td>           </td><td>NA         </td></tr>\n",
       "\t<tr><td>2017       </td><td>winter     </td><td>JTree      </td><td>1          </td><td>0.30       </td><td>0.38       </td><td>unk grass 1</td><td>           </td><td>NA         </td></tr>\n",
       "\t<tr><td>2017       </td><td>winter     </td><td>JTree      </td><td>1          </td><td>0.38       </td><td>1.10       </td><td>soil       </td><td>           </td><td>NA         </td></tr>\n",
       "\t<tr><td>2017       </td><td>winter     </td><td>JTree      </td><td>1          </td><td>1.10       </td><td>1.28       </td><td>Burro bush </td><td>           </td><td>NA         </td></tr>\n",
       "\t<tr><td>2017       </td><td>winter     </td><td>JTree      </td><td>1          </td><td>1.38       </td><td>1.50       </td><td>unk grass 1</td><td>           </td><td>NA         </td></tr>\n",
       "\t<tr><td>2017       </td><td>winter     </td><td>JTree      </td><td>1          </td><td>1.50       </td><td>1.67       </td><td>Burro bush </td><td>           </td><td>NA         </td></tr>\n",
       "</tbody>\n",
       "</table>\n"
      ],
      "text/latex": [
       "\\begin{tabular}{r|lllllllll}\n",
       " year & season & site & transect & start & stop & species & condition & notes\\\\\n",
       "\\hline\n",
       "\t 2017        & winter      & JTree       & 1           & 0.00        & 0.30        & soil        &             & NA         \\\\\n",
       "\t 2017        & winter      & JTree       & 1           & 0.30        & 0.38        & unk grass 1 &             & NA         \\\\\n",
       "\t 2017        & winter      & JTree       & 1           & 0.38        & 1.10        & soil        &             & NA         \\\\\n",
       "\t 2017        & winter      & JTree       & 1           & 1.10        & 1.28        & Burro bush  &             & NA         \\\\\n",
       "\t 2017        & winter      & JTree       & 1           & 1.38        & 1.50        & unk grass 1 &             & NA         \\\\\n",
       "\t 2017        & winter      & JTree       & 1           & 1.50        & 1.67        & Burro bush  &             & NA         \\\\\n",
       "\\end{tabular}\n"
      ],
      "text/plain": [
       "  year season site  transect start stop species     condition notes\n",
       "1 2017 winter JTree 1        0.00  0.30 soil                  NA   \n",
       "2 2017 winter JTree 1        0.30  0.38 unk grass 1           NA   \n",
       "3 2017 winter JTree 1        0.38  1.10 soil                  NA   \n",
       "4 2017 winter JTree 1        1.10  1.28 Burro bush            NA   \n",
       "5 2017 winter JTree 1        1.38  1.50 unk grass 1           NA   \n",
       "6 2017 winter JTree 1        1.50  1.67 Burro bush            NA   "
      ]
     },
     "metadata": {},
     "output_type": "display_data"
    },
    {
     "data": {
      "text/html": [
       "630"
      ],
      "text/latex": [
       "630"
      ],
      "text/markdown": [
       "630"
      ],
      "text/plain": [
       "[1] 630"
      ]
     },
     "metadata": {},
     "output_type": "display_data"
    }
   ],
   "source": [
    "veg.raw <- read.csv(\"~/data/gdrive_berkeley/MojaveCarbon/Data/VegTransects//LineTransects_JTree.csv\", skip=1)\n",
    "head(veg.raw)\n",
    "\n",
    "###cleaning\n",
    "###########\n",
    "\n",
    "`%!in%` <- Negate(`%in%`) \n",
    "remove <- c(\"0\", \"LITT\", \"UNKNO\", \"ROCK\", \"SOIL\", \"1SOIL\", \"SOIIL\", \"UNK\", \"SHRUB\", \"BRASS\", \"BFORB\", \"BOER\", \"BOGR\", \"GRASS\")\n",
    "\n",
    "#veg.raw <- subset(veg.raw, species %!in% remove) \n",
    "nrow(veg.raw)\n",
    "\n",
    "veg.raw <- subset(veg.raw, condition != 'dead')\n",
    "\n",
    "\n",
    "####finding cover value per individual\n",
    "#######################################\n",
    "veg.raw$cover_cm <- veg.raw$stop - veg.raw$start\n",
    "\n",
    "#finding largest cover value between seasons \n",
    "veg.sum <- data.frame(summarise(group_by(veg.raw, year, species), cover_cm=sum(cover_cm)))\n",
    "veg.max <- data.frame(summarise(group_by(veg.sum, year, species), max.cover_cm = max(cover_cm)))\n",
    "\n",
    "veg.sum$functionaltype <- 'shrub'\n",
    "veg.sum$functionaltype[veg.sum$species%in%c('unk grass 1', 'Black grama grass', 'needle grass', 'muhly grass')] <- 'grass'\n",
    "veg.sum$functionaltype[veg.sum$species%in%c('joshua tree', 'mojave yucca')] <- 'tree (yucca)'\n",
    "veg.sum$functionaltype[veg.sum$species%in%c('forb', 'small mustard(alyssum)')] <- 'forb'\n",
    "veg.sum$functionaltype[veg.sum$species%in%c('echinocerius trig', 'pencil cholla', 'silver cholla')] <- 'cacti'\n",
    "veg.sum$functionaltype[veg.sum$species%in%c('soil')] <- 'soil'\n",
    "veg.sum$functionaltype[veg.sum$species%in%c('biocrust')] <- 'biocrust'\n",
    "\n",
    "veg.sum$pct_cover <- veg.sum$cover_cm/250\n",
    "\n",
    "veg.sum.ft <- data.frame(summarise(group_by(veg.sum, functionaltype), pct_cover=sum(pct_cover)))"
   ]
  },
  {
   "cell_type": "markdown",
   "metadata": {},
   "source": [
    "## Joshua tree tables by species and functional type\n",
    "\n",
    "The last number here is total cover"
   ]
  },
  {
   "cell_type": "code",
   "execution_count": 14,
   "metadata": {
    "collapsed": false
   },
   "outputs": [
    {
     "data": {
      "text/html": [
       "<table>\n",
       "<thead><tr><th scope=col>year</th><th scope=col>species</th><th scope=col>cover_cm</th><th scope=col>functionaltype</th><th scope=col>pct_cover</th></tr></thead>\n",
       "<tbody>\n",
       "\t<tr><td>2017                  </td><td>Black grama grass     </td><td> 16.540               </td><td>grass                 </td><td>0.066160              </td></tr>\n",
       "\t<tr><td>2017                  </td><td>Burro bush            </td><td>  2.110               </td><td>shrub                 </td><td>0.008440              </td></tr>\n",
       "\t<tr><td>2017                  </td><td>echinocerius trig     </td><td>  0.220               </td><td>cacti                 </td><td>0.000880              </td></tr>\n",
       "\t<tr><td>2017                  </td><td>ephedra               </td><td> 20.780               </td><td>shrub                 </td><td>0.083120              </td></tr>\n",
       "\t<tr><td>2017                  </td><td>forb                  </td><td>  0.250               </td><td>forb                  </td><td>0.001000              </td></tr>\n",
       "\t<tr><td>2017                  </td><td>goldenbush            </td><td>  3.360               </td><td>shrub                 </td><td>0.013440              </td></tr>\n",
       "\t<tr><td>2017                  </td><td>joshua tree           </td><td>  4.340               </td><td>tree (yucca)          </td><td>0.017360              </td></tr>\n",
       "\t<tr><td>2017                  </td><td>lycium cooperi        </td><td>  0.260               </td><td>shrub                 </td><td>0.001040              </td></tr>\n",
       "\t<tr><td>2017                  </td><td>mojave yucca          </td><td>  4.090               </td><td>tree (yucca)          </td><td>0.016360              </td></tr>\n",
       "\t<tr><td>2017                  </td><td>muhly grass           </td><td>  6.820               </td><td>grass                 </td><td>0.027280              </td></tr>\n",
       "\t<tr><td>2017                  </td><td>needle grass          </td><td> 48.481               </td><td>grass                 </td><td>0.193924              </td></tr>\n",
       "\t<tr><td>2017                  </td><td>pencil cholla         </td><td>  3.600               </td><td>cacti                 </td><td>0.014400              </td></tr>\n",
       "\t<tr><td>2017                  </td><td>rubber brush          </td><td>  0.170               </td><td>shrub                 </td><td>0.000680              </td></tr>\n",
       "\t<tr><td>2017                  </td><td>silver cholla         </td><td>  0.730               </td><td>cacti                 </td><td>0.002920              </td></tr>\n",
       "\t<tr><td>2017                  </td><td>small mustard(alyssum)</td><td>  0.190               </td><td>forb                  </td><td>0.000760              </td></tr>\n",
       "\t<tr><td>2017                  </td><td>soil                  </td><td>134.449               </td><td>soil                  </td><td>0.537796              </td></tr>\n",
       "\t<tr><td>2017                  </td><td>spiny menodora        </td><td>  2.570               </td><td>shrub                 </td><td>0.010280              </td></tr>\n",
       "\t<tr><td>2017                  </td><td>unk grass 1           </td><td>  2.060               </td><td>grass                 </td><td>0.008240              </td></tr>\n",
       "</tbody>\n",
       "</table>\n"
      ],
      "text/latex": [
       "\\begin{tabular}{r|lllll}\n",
       " year & species & cover\\_cm & functionaltype & pct\\_cover\\\\\n",
       "\\hline\n",
       "\t 2017                   & Black grama grass      &  16.540                & grass                  & 0.066160              \\\\\n",
       "\t 2017                   & Burro bush             &   2.110                & shrub                  & 0.008440              \\\\\n",
       "\t 2017                   & echinocerius trig      &   0.220                & cacti                  & 0.000880              \\\\\n",
       "\t 2017                   & ephedra                &  20.780                & shrub                  & 0.083120              \\\\\n",
       "\t 2017                   & forb                   &   0.250                & forb                   & 0.001000              \\\\\n",
       "\t 2017                   & goldenbush             &   3.360                & shrub                  & 0.013440              \\\\\n",
       "\t 2017                   & joshua tree            &   4.340                & tree (yucca)           & 0.017360              \\\\\n",
       "\t 2017                   & lycium cooperi         &   0.260                & shrub                  & 0.001040              \\\\\n",
       "\t 2017                   & mojave yucca           &   4.090                & tree (yucca)           & 0.016360              \\\\\n",
       "\t 2017                   & muhly grass            &   6.820                & grass                  & 0.027280              \\\\\n",
       "\t 2017                   & needle grass           &  48.481                & grass                  & 0.193924              \\\\\n",
       "\t 2017                   & pencil cholla          &   3.600                & cacti                  & 0.014400              \\\\\n",
       "\t 2017                   & rubber brush           &   0.170                & shrub                  & 0.000680              \\\\\n",
       "\t 2017                   & silver cholla          &   0.730                & cacti                  & 0.002920              \\\\\n",
       "\t 2017                   & small mustard(alyssum) &   0.190                & forb                   & 0.000760              \\\\\n",
       "\t 2017                   & soil                   & 134.449                & soil                   & 0.537796              \\\\\n",
       "\t 2017                   & spiny menodora         &   2.570                & shrub                  & 0.010280              \\\\\n",
       "\t 2017                   & unk grass 1            &   2.060                & grass                  & 0.008240              \\\\\n",
       "\\end{tabular}\n"
      ],
      "text/plain": [
       "   year species                cover_cm functionaltype pct_cover\n",
       "1  2017 Black grama grass       16.540  grass          0.066160 \n",
       "2  2017 Burro bush               2.110  shrub          0.008440 \n",
       "3  2017 echinocerius trig        0.220  cacti          0.000880 \n",
       "4  2017 ephedra                 20.780  shrub          0.083120 \n",
       "5  2017 forb                     0.250  forb           0.001000 \n",
       "6  2017 goldenbush               3.360  shrub          0.013440 \n",
       "7  2017 joshua tree              4.340  tree (yucca)   0.017360 \n",
       "8  2017 lycium cooperi           0.260  shrub          0.001040 \n",
       "9  2017 mojave yucca             4.090  tree (yucca)   0.016360 \n",
       "10 2017 muhly grass              6.820  grass          0.027280 \n",
       "11 2017 needle grass            48.481  grass          0.193924 \n",
       "12 2017 pencil cholla            3.600  cacti          0.014400 \n",
       "13 2017 rubber brush             0.170  shrub          0.000680 \n",
       "14 2017 silver cholla            0.730  cacti          0.002920 \n",
       "15 2017 small mustard(alyssum)   0.190  forb           0.000760 \n",
       "16 2017 soil                   134.449  soil           0.537796 \n",
       "17 2017 spiny menodora           2.570  shrub          0.010280 \n",
       "18 2017 unk grass 1              2.060  grass          0.008240 "
      ]
     },
     "metadata": {},
     "output_type": "display_data"
    },
    {
     "data": {
      "text/html": [
       "<table>\n",
       "<thead><tr><th scope=col>functionaltype</th><th scope=col>pct_cover</th></tr></thead>\n",
       "<tbody>\n",
       "\t<tr><td>cacti       </td><td>0.018200    </td></tr>\n",
       "\t<tr><td>forb        </td><td>0.001760    </td></tr>\n",
       "\t<tr><td>grass       </td><td>0.295604    </td></tr>\n",
       "\t<tr><td>shrub       </td><td>0.117000    </td></tr>\n",
       "\t<tr><td>soil        </td><td>0.537796    </td></tr>\n",
       "\t<tr><td>tree (yucca)</td><td>0.033720    </td></tr>\n",
       "</tbody>\n",
       "</table>\n"
      ],
      "text/latex": [
       "\\begin{tabular}{r|ll}\n",
       " functionaltype & pct\\_cover\\\\\n",
       "\\hline\n",
       "\t cacti        & 0.018200    \\\\\n",
       "\t forb         & 0.001760    \\\\\n",
       "\t grass        & 0.295604    \\\\\n",
       "\t shrub        & 0.117000    \\\\\n",
       "\t soil         & 0.537796    \\\\\n",
       "\t tree (yucca) & 0.033720    \\\\\n",
       "\\end{tabular}\n"
      ],
      "text/plain": [
       "  functionaltype pct_cover\n",
       "1 cacti          0.018200 \n",
       "2 forb           0.001760 \n",
       "3 grass          0.295604 \n",
       "4 shrub          0.117000 \n",
       "5 soil           0.537796 \n",
       "6 tree (yucca)   0.033720 "
      ]
     },
     "metadata": {},
     "output_type": "display_data"
    },
    {
     "data": {
      "text/html": [
       "0.462204"
      ],
      "text/latex": [
       "0.462204"
      ],
      "text/markdown": [
       "0.462204"
      ],
      "text/plain": [
       "[1] 0.462204"
      ]
     },
     "metadata": {},
     "output_type": "display_data"
    }
   ],
   "source": [
    "veg.sum\n",
    "veg.sum.ft\n",
    "1 - sum(veg.sum$pct_cover[veg.sum$species%in%c('soil')])"
   ]
  },
  {
   "cell_type": "markdown",
   "metadata": {},
   "source": [
    "## Pinyon Juniper"
   ]
  },
  {
   "cell_type": "code",
   "execution_count": 15,
   "metadata": {
    "collapsed": false
   },
   "outputs": [
    {
     "data": {
      "text/html": [
       "<table>\n",
       "<thead><tr><th scope=col>year</th><th scope=col>season</th><th scope=col>site</th><th scope=col>transect</th><th scope=col>start</th><th scope=col>stop</th><th scope=col>species</th><th scope=col>condition</th><th scope=col>notes</th></tr></thead>\n",
       "<tbody>\n",
       "\t<tr><td>2017             </td><td>winter           </td><td>PJ               </td><td>1                </td><td>0.00             </td><td>0.44             </td><td>soil             </td><td>                 </td><td>                 </td></tr>\n",
       "\t<tr><td>2017             </td><td>winter           </td><td>PJ               </td><td>1                </td><td>0.44             </td><td>0.53             </td><td>Black grama grass</td><td>                 </td><td>                 </td></tr>\n",
       "\t<tr><td>2017             </td><td>winter           </td><td>PJ               </td><td>1                </td><td>0.53             </td><td>0.79             </td><td>biocrust         </td><td>                 </td><td>                 </td></tr>\n",
       "\t<tr><td>2017             </td><td>winter           </td><td>PJ               </td><td>1                </td><td>0.79             </td><td>0.94             </td><td>soil             </td><td>                 </td><td>                 </td></tr>\n",
       "\t<tr><td>2017             </td><td>winter           </td><td>PJ               </td><td>1                </td><td>0.94             </td><td>1.37             </td><td>buckwheat        </td><td>                 </td><td>                 </td></tr>\n",
       "\t<tr><td>2017             </td><td>winter           </td><td>PJ               </td><td>1                </td><td>1.37             </td><td>1.44             </td><td>woody debris     </td><td>                 </td><td>                 </td></tr>\n",
       "</tbody>\n",
       "</table>\n"
      ],
      "text/latex": [
       "\\begin{tabular}{r|lllllllll}\n",
       " year & season & site & transect & start & stop & species & condition & notes\\\\\n",
       "\\hline\n",
       "\t 2017              & winter            & PJ                & 1                 & 0.00              & 0.44              & soil              &                   &                  \\\\\n",
       "\t 2017              & winter            & PJ                & 1                 & 0.44              & 0.53              & Black grama grass &                   &                  \\\\\n",
       "\t 2017              & winter            & PJ                & 1                 & 0.53              & 0.79              & biocrust          &                   &                  \\\\\n",
       "\t 2017              & winter            & PJ                & 1                 & 0.79              & 0.94              & soil              &                   &                  \\\\\n",
       "\t 2017              & winter            & PJ                & 1                 & 0.94              & 1.37              & buckwheat         &                   &                  \\\\\n",
       "\t 2017              & winter            & PJ                & 1                 & 1.37              & 1.44              & woody debris      &                   &                  \\\\\n",
       "\\end{tabular}\n"
      ],
      "text/plain": [
       "  year season site transect start stop species           condition notes\n",
       "1 2017 winter PJ   1        0.00  0.44 soil                             \n",
       "2 2017 winter PJ   1        0.44  0.53 Black grama grass                \n",
       "3 2017 winter PJ   1        0.53  0.79 biocrust                         \n",
       "4 2017 winter PJ   1        0.79  0.94 soil                             \n",
       "5 2017 winter PJ   1        0.94  1.37 buckwheat                        \n",
       "6 2017 winter PJ   1        1.37  1.44 woody debris                     "
      ]
     },
     "metadata": {},
     "output_type": "display_data"
    },
    {
     "data": {
      "text/html": [
       "569"
      ],
      "text/latex": [
       "569"
      ],
      "text/markdown": [
       "569"
      ],
      "text/plain": [
       "[1] 569"
      ]
     },
     "metadata": {},
     "output_type": "display_data"
    }
   ],
   "source": [
    "veg.raw <- read.csv(\"~/data/gdrive_berkeley/MojaveCarbon/Data/VegTransects//LineTransects_PJ.csv\", skip=1)\n",
    "head(veg.raw)\n",
    "\n",
    "###cleaning\n",
    "###########\n",
    "\n",
    "`%!in%` <- Negate(`%in%`) \n",
    "remove <- c(\"0\", \"LITT\", \"UNKNO\", \"ROCK\", \"SOIL\", \"1SOIL\", \"SOIIL\", \"UNK\", \"SHRUB\", \"BRASS\", \"BFORB\", \"BOER\", \"BOGR\", \"GRASS\")\n",
    "\n",
    "veg.raw <- subset(veg.raw, species %!in% remove) \n",
    "nrow(veg.raw)\n",
    "\n",
    "veg.raw <- subset(veg.raw, condition != 'dead')\n",
    "\n",
    "\n",
    "####finding cover value per individual\n",
    "#######################################\n",
    "veg.raw$cover_cm <- veg.raw$stop - veg.raw$start\n",
    "\n",
    "#finding largest cover value between seasons \n",
    "veg.sum <- data.frame(summarise(group_by(veg.raw, year, species), cover_cm=sum(cover_cm)))\n",
    "veg.max <- data.frame(summarise(group_by(veg.sum, year, species), max.cover_cm = max(cover_cm)))\n",
    "\n",
    "veg.sum$functionaltype <- 'shrub'\n",
    "veg.sum$functionaltype[veg.sum$species%in%c('Indian rice grass','Black grama grass','Blue grama grass','needle grass','muhly grass')] <- 'grass'\n",
    "veg.sum$functionaltype[veg.sum$species%in%c('juniper')] <- 'tree (Juniper)'\n",
    "veg.sum$functionaltype[veg.sum$species%in%c('forb', 'small mustard(alyssum)')] <- 'forb'\n",
    "veg.sum$functionaltype[veg.sum$species%in%c('echinocerius trig', 'pencil cholla', 'cholla')] <- 'cacti'\n",
    "veg.sum$functionaltype[veg.sum$species%in%c('soil')] <- 'soil'\n",
    "veg.sum$functionaltype[veg.sum$species%in%c('biocrust')] <- 'biocrust'\n",
    "\n",
    "veg.sum$pct_cover <- veg.sum$cover_cm/250\n",
    "\n",
    "veg.sum.ft <- data.frame(summarise(group_by(veg.sum, functionaltype), pct_cover=sum(pct_cover)))"
   ]
  },
  {
   "cell_type": "markdown",
   "metadata": {},
   "source": [
    "## PJ tables by species and functional type\n",
    "\n",
    "The last number here is total cover"
   ]
  },
  {
   "cell_type": "code",
   "execution_count": 16,
   "metadata": {
    "collapsed": false
   },
   "outputs": [
    {
     "data": {
      "text/html": [
       "<table>\n",
       "<thead><tr><th scope=col>year</th><th scope=col>species</th><th scope=col>cover_cm</th><th scope=col>functionaltype</th><th scope=col>pct_cover</th></tr></thead>\n",
       "<tbody>\n",
       "\t<tr><td>2017               </td><td>banana yucca       </td><td>  2.73             </td><td>shrub              </td><td>0.01092            </td></tr>\n",
       "\t<tr><td>2017               </td><td>big sage           </td><td> 21.94             </td><td>shrub              </td><td>0.08776            </td></tr>\n",
       "\t<tr><td>2017               </td><td>biocrust           </td><td>  0.96             </td><td>biocrust           </td><td>0.00384            </td></tr>\n",
       "\t<tr><td>2017               </td><td>Black grama grass  </td><td>  9.81             </td><td>grass              </td><td>0.03924            </td></tr>\n",
       "\t<tr><td>2017               </td><td>Blue grama grass   </td><td>  5.28             </td><td>grass              </td><td>0.02112            </td></tr>\n",
       "\t<tr><td>2017               </td><td>buckwheat          </td><td> 18.77             </td><td>shrub              </td><td>0.07508            </td></tr>\n",
       "\t<tr><td>2017               </td><td>cholla             </td><td>  1.47             </td><td>cacti              </td><td>0.00588            </td></tr>\n",
       "\t<tr><td>2017               </td><td>cliff rose         </td><td>  2.54             </td><td>shrub              </td><td>0.01016            </td></tr>\n",
       "\t<tr><td>2017               </td><td>desert sage        </td><td> 14.17             </td><td>shrub              </td><td>0.05668            </td></tr>\n",
       "\t<tr><td>2017               </td><td>ephedra            </td><td> 14.40             </td><td>shrub              </td><td>0.05760            </td></tr>\n",
       "\t<tr><td>2017               </td><td>forb               </td><td>  1.05             </td><td>forb               </td><td>0.00420            </td></tr>\n",
       "\t<tr><td>2017               </td><td>four wing salt bush</td><td>  0.38             </td><td>shrub              </td><td>0.00152            </td></tr>\n",
       "\t<tr><td>2017               </td><td>goldenbush         </td><td>  5.11             </td><td>shrub              </td><td>0.02044            </td></tr>\n",
       "\t<tr><td>2017               </td><td>hopsage            </td><td>  3.48             </td><td>shrub              </td><td>0.01392            </td></tr>\n",
       "\t<tr><td>2017               </td><td>Indian rice grass  </td><td>  6.40             </td><td>grass              </td><td>0.02560            </td></tr>\n",
       "\t<tr><td>2017               </td><td>juniper            </td><td> 12.00             </td><td>tree (Juniper)     </td><td>0.04800            </td></tr>\n",
       "\t<tr><td>2017               </td><td>muhly grass        </td><td>  7.70             </td><td>grass              </td><td>0.03080            </td></tr>\n",
       "\t<tr><td>2017               </td><td>needle grass       </td><td>  2.27             </td><td>grass              </td><td>0.00908            </td></tr>\n",
       "\t<tr><td>2017               </td><td>snakeweed          </td><td>  8.29             </td><td>shrub              </td><td>0.03316            </td></tr>\n",
       "\t<tr><td>2017               </td><td>soil               </td><td>111.93             </td><td>soil               </td><td>0.44772            </td></tr>\n",
       "\t<tr><td>2017               </td><td>unk shrub 1        </td><td>  0.92             </td><td>shrub              </td><td>0.00368            </td></tr>\n",
       "\t<tr><td>2017               </td><td>woody debris       </td><td> 11.12             </td><td>shrub              </td><td>0.04448            </td></tr>\n",
       "</tbody>\n",
       "</table>\n"
      ],
      "text/latex": [
       "\\begin{tabular}{r|lllll}\n",
       " year & species & cover\\_cm & functionaltype & pct\\_cover\\\\\n",
       "\\hline\n",
       "\t 2017                & banana yucca        &   2.73              & shrub               & 0.01092            \\\\\n",
       "\t 2017                & big sage            &  21.94              & shrub               & 0.08776            \\\\\n",
       "\t 2017                & biocrust            &   0.96              & biocrust            & 0.00384            \\\\\n",
       "\t 2017                & Black grama grass   &   9.81              & grass               & 0.03924            \\\\\n",
       "\t 2017                & Blue grama grass    &   5.28              & grass               & 0.02112            \\\\\n",
       "\t 2017                & buckwheat           &  18.77              & shrub               & 0.07508            \\\\\n",
       "\t 2017                & cholla              &   1.47              & cacti               & 0.00588            \\\\\n",
       "\t 2017                & cliff rose          &   2.54              & shrub               & 0.01016            \\\\\n",
       "\t 2017                & desert sage         &  14.17              & shrub               & 0.05668            \\\\\n",
       "\t 2017                & ephedra             &  14.40              & shrub               & 0.05760            \\\\\n",
       "\t 2017                & forb                &   1.05              & forb                & 0.00420            \\\\\n",
       "\t 2017                & four wing salt bush &   0.38              & shrub               & 0.00152            \\\\\n",
       "\t 2017                & goldenbush          &   5.11              & shrub               & 0.02044            \\\\\n",
       "\t 2017                & hopsage             &   3.48              & shrub               & 0.01392            \\\\\n",
       "\t 2017                & Indian rice grass   &   6.40              & grass               & 0.02560            \\\\\n",
       "\t 2017                & juniper             &  12.00              & tree (Juniper)      & 0.04800            \\\\\n",
       "\t 2017                & muhly grass         &   7.70              & grass               & 0.03080            \\\\\n",
       "\t 2017                & needle grass        &   2.27              & grass               & 0.00908            \\\\\n",
       "\t 2017                & snakeweed           &   8.29              & shrub               & 0.03316            \\\\\n",
       "\t 2017                & soil                & 111.93              & soil                & 0.44772            \\\\\n",
       "\t 2017                & unk shrub 1         &   0.92              & shrub               & 0.00368            \\\\\n",
       "\t 2017                & woody debris        &  11.12              & shrub               & 0.04448            \\\\\n",
       "\\end{tabular}\n"
      ],
      "text/plain": [
       "   year species             cover_cm functionaltype pct_cover\n",
       "1  2017 banana yucca          2.73   shrub          0.01092  \n",
       "2  2017 big sage             21.94   shrub          0.08776  \n",
       "3  2017 biocrust              0.96   biocrust       0.00384  \n",
       "4  2017 Black grama grass     9.81   grass          0.03924  \n",
       "5  2017 Blue grama grass      5.28   grass          0.02112  \n",
       "6  2017 buckwheat            18.77   shrub          0.07508  \n",
       "7  2017 cholla                1.47   cacti          0.00588  \n",
       "8  2017 cliff rose            2.54   shrub          0.01016  \n",
       "9  2017 desert sage          14.17   shrub          0.05668  \n",
       "10 2017 ephedra              14.40   shrub          0.05760  \n",
       "11 2017 forb                  1.05   forb           0.00420  \n",
       "12 2017 four wing salt bush   0.38   shrub          0.00152  \n",
       "13 2017 goldenbush            5.11   shrub          0.02044  \n",
       "14 2017 hopsage               3.48   shrub          0.01392  \n",
       "15 2017 Indian rice grass     6.40   grass          0.02560  \n",
       "16 2017 juniper              12.00   tree (Juniper) 0.04800  \n",
       "17 2017 muhly grass           7.70   grass          0.03080  \n",
       "18 2017 needle grass          2.27   grass          0.00908  \n",
       "19 2017 snakeweed             8.29   shrub          0.03316  \n",
       "20 2017 soil                111.93   soil           0.44772  \n",
       "21 2017 unk shrub 1           0.92   shrub          0.00368  \n",
       "22 2017 woody debris         11.12   shrub          0.04448  "
      ]
     },
     "metadata": {},
     "output_type": "display_data"
    },
    {
     "data": {
      "text/html": [
       "<table>\n",
       "<thead><tr><th scope=col>functionaltype</th><th scope=col>pct_cover</th></tr></thead>\n",
       "<tbody>\n",
       "\t<tr><td>biocrust      </td><td>0.00384       </td></tr>\n",
       "\t<tr><td>cacti         </td><td>0.00588       </td></tr>\n",
       "\t<tr><td>forb          </td><td>0.00420       </td></tr>\n",
       "\t<tr><td>grass         </td><td>0.12584       </td></tr>\n",
       "\t<tr><td>shrub         </td><td>0.41540       </td></tr>\n",
       "\t<tr><td>soil          </td><td>0.44772       </td></tr>\n",
       "\t<tr><td>tree (Juniper)</td><td>0.04800       </td></tr>\n",
       "</tbody>\n",
       "</table>\n"
      ],
      "text/latex": [
       "\\begin{tabular}{r|ll}\n",
       " functionaltype & pct\\_cover\\\\\n",
       "\\hline\n",
       "\t biocrust       & 0.00384       \\\\\n",
       "\t cacti          & 0.00588       \\\\\n",
       "\t forb           & 0.00420       \\\\\n",
       "\t grass          & 0.12584       \\\\\n",
       "\t shrub          & 0.41540       \\\\\n",
       "\t soil           & 0.44772       \\\\\n",
       "\t tree (Juniper) & 0.04800       \\\\\n",
       "\\end{tabular}\n"
      ],
      "text/plain": [
       "  functionaltype pct_cover\n",
       "1 biocrust       0.00384  \n",
       "2 cacti          0.00588  \n",
       "3 forb           0.00420  \n",
       "4 grass          0.12584  \n",
       "5 shrub          0.41540  \n",
       "6 soil           0.44772  \n",
       "7 tree (Juniper) 0.04800  "
      ]
     },
     "metadata": {},
     "output_type": "display_data"
    },
    {
     "data": {
      "text/html": [
       "0.55228"
      ],
      "text/latex": [
       "0.55228"
      ],
      "text/markdown": [
       "0.55228"
      ],
      "text/plain": [
       "[1] 0.55228"
      ]
     },
     "metadata": {},
     "output_type": "display_data"
    }
   ],
   "source": [
    "veg.sum\n",
    "veg.sum.ft\n",
    "1 - sum(veg.sum$pct_cover[veg.sum$species%in%c('soil')])"
   ]
  }
 ],
 "metadata": {
  "anaconda-cloud": {},
  "kernelspec": {
   "display_name": "R",
   "language": "R",
   "name": "ir"
  },
  "language_info": {
   "codemirror_mode": "r",
   "file_extension": ".r",
   "mimetype": "text/x-r-source",
   "name": "R",
   "pygments_lexer": "r",
   "version": "3.3.2"
  }
 },
 "nbformat": 4,
 "nbformat_minor": 2
}
