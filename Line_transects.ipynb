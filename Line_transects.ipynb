{
 "cells": [
  {
   "cell_type": "markdown",
   "metadata": {},
   "source": [
    "# Mojave C line-intercept veg data"
   ]
  },
  {
   "cell_type": "markdown",
   "metadata": {},
   "source": [
    "## Creosote line transects\n"
   ]
  },
  {
   "cell_type": "code",
   "execution_count": 72,
   "metadata": {},
   "outputs": [
    {
     "data": {
      "text/html": [
       "<table>\n",
       "<thead><tr><th scope=col>year</th><th scope=col>season</th><th scope=col>site</th><th scope=col>transect</th><th scope=col>start</th><th scope=col>stop</th><th scope=col>species</th><th scope=col>condition</th><th scope=col>notes</th></tr></thead>\n",
       "<tbody>\n",
       "\t<tr><td>2017       </td><td>winter     </td><td>Creosote   </td><td>1          </td><td>0.00       </td><td>0.81       </td><td>soil       </td><td>           </td><td>NA         </td></tr>\n",
       "\t<tr><td>2017       </td><td>winter     </td><td>Creosote   </td><td>1          </td><td>0.81       </td><td>1.02       </td><td>biocrust   </td><td>           </td><td>NA         </td></tr>\n",
       "\t<tr><td>2017       </td><td>winter     </td><td>Creosote   </td><td>1          </td><td>1.02       </td><td>1.46       </td><td>soil       </td><td>           </td><td>NA         </td></tr>\n",
       "\t<tr><td>2017       </td><td>winter     </td><td>Creosote   </td><td>1          </td><td>1.46       </td><td>3.80       </td><td>creosote   </td><td>           </td><td>NA         </td></tr>\n",
       "\t<tr><td>2017       </td><td>winter     </td><td>Creosote   </td><td>1          </td><td>3.50       </td><td>3.70       </td><td>unk shrub  </td><td>dead       </td><td>NA         </td></tr>\n",
       "\t<tr><td>2017       </td><td>winter     </td><td>Creosote   </td><td>1          </td><td>3.80       </td><td>3.92       </td><td>unk grass 2</td><td>           </td><td>NA         </td></tr>\n",
       "</tbody>\n",
       "</table>\n"
      ],
      "text/latex": [
       "\\begin{tabular}{r|lllllllll}\n",
       " year & season & site & transect & start & stop & species & condition & notes\\\\\n",
       "\\hline\n",
       "\t 2017        & winter      & Creosote    & 1           & 0.00        & 0.81        & soil        &             & NA         \\\\\n",
       "\t 2017        & winter      & Creosote    & 1           & 0.81        & 1.02        & biocrust    &             & NA         \\\\\n",
       "\t 2017        & winter      & Creosote    & 1           & 1.02        & 1.46        & soil        &             & NA         \\\\\n",
       "\t 2017        & winter      & Creosote    & 1           & 1.46        & 3.80        & creosote    &             & NA         \\\\\n",
       "\t 2017        & winter      & Creosote    & 1           & 3.50        & 3.70        & unk shrub   & dead        & NA         \\\\\n",
       "\t 2017        & winter      & Creosote    & 1           & 3.80        & 3.92        & unk grass 2 &             & NA         \\\\\n",
       "\\end{tabular}\n"
      ],
      "text/markdown": [
       "\n",
       "year | season | site | transect | start | stop | species | condition | notes | \n",
       "|---|---|---|---|---|---|\n",
       "| 2017        | winter      | Creosote    | 1           | 0.00        | 0.81        | soil        |             | NA          | \n",
       "| 2017        | winter      | Creosote    | 1           | 0.81        | 1.02        | biocrust    |             | NA          | \n",
       "| 2017        | winter      | Creosote    | 1           | 1.02        | 1.46        | soil        |             | NA          | \n",
       "| 2017        | winter      | Creosote    | 1           | 1.46        | 3.80        | creosote    |             | NA          | \n",
       "| 2017        | winter      | Creosote    | 1           | 3.50        | 3.70        | unk shrub   | dead        | NA          | \n",
       "| 2017        | winter      | Creosote    | 1           | 3.80        | 3.92        | unk grass 2 |             | NA          | \n",
       "\n",
       "\n"
      ],
      "text/plain": [
       "  year season site     transect start stop species     condition notes\n",
       "1 2017 winter Creosote 1        0.00  0.81 soil                  NA   \n",
       "2 2017 winter Creosote 1        0.81  1.02 biocrust              NA   \n",
       "3 2017 winter Creosote 1        1.02  1.46 soil                  NA   \n",
       "4 2017 winter Creosote 1        1.46  3.80 creosote              NA   \n",
       "5 2017 winter Creosote 1        3.50  3.70 unk shrub   dead      NA   \n",
       "6 2017 winter Creosote 1        3.80  3.92 unk grass 2           NA   "
      ]
     },
     "metadata": {},
     "output_type": "display_data"
    },
    {
     "data": {
      "text/html": [
       "422"
      ],
      "text/latex": [
       "422"
      ],
      "text/markdown": [
       "422"
      ],
      "text/plain": [
       "[1] 422"
      ]
     },
     "metadata": {},
     "output_type": "display_data"
    }
   ],
   "source": [
    "require(dplyr)\n",
    "require(forcats)\n",
    "require(tidyr)\n",
    "\n",
    "veg.raw <- read.csv(\"~/GD_berkeley/MojaveCarbon/Data/VegTransects//LineTransects_Creosote.csv\", skip=1)\n",
    "head(veg.raw)\n",
    "\n",
    "###cleaning\n",
    "###########\n",
    "\n",
    "`%!in%` <- Negate(`%in%`) \n",
    "\n",
    "nrow(veg.raw)\n",
    "#unique(veg.raw$species)\n",
    "\n",
    "# Remove rows with condition == \"dead\"\n",
    "# This removes lots of \"unknown shrub\" entries at creosote (for better or worse)\n",
    "veg.raw <- subset(veg.raw, condition != 'dead')\n",
    "\n",
    "####finding cover value per individual\n",
    "#######################################\n",
    "veg.raw$cover_cm <- veg.raw$stop - veg.raw$start\n",
    "\n",
    "#finding largest cover value between seasons \n",
    "veg.sum <- data.frame(summarise(group_by(veg.raw, year, species), cover_cm=sum(cover_cm)))\n",
    "veg.max <- data.frame(summarise(group_by(veg.sum, year, species), max.cover_cm = max(cover_cm)))\n",
    "\n",
    "# Set functional types\n",
    "veg.sum$functionaltype <- 'shrub'\n",
    "veg.sum$functionaltype[veg.sum$species%in%c('unk grass 2')] <- 'grass'\n",
    "veg.sum$functionaltype[veg.sum$species%in%c('soil')] <- 'soil'\n",
    "veg.sum$functionaltype[veg.sum$species%in%c('biocrust')] <- 'biocrust'\n",
    "\n",
    "# Rename some species that we now know\n",
    "veg.sum <- veg.sum %>%\n",
    "    mutate(species2 = fct_recode(species, 'Festuca octoflora' = 'unk grass 2',\n",
    "                                 'Larrea tridentata' = 'creosote',\n",
    "                                 'Ambrosia dumosa' = 'Burro bush',\n",
    "                                 'Grayia spinosa' = 'hopsage',\n",
    "                                 'Thamnosma montana' = 'Amsonia',\n",
    "                                 'Bare soil' = 'soil',\n",
    "                                 'Biotic soil crust' = 'biocrust'))\n",
    "\n",
    "\n",
    "\n",
    "veg.sum$pct_cover <- veg.sum$cover_cm/250\n",
    "\n",
    "veg.sum.ft <- data.frame(summarise(group_by(veg.sum, functionaltype), pct_cover=sum(pct_cover)))"
   ]
  },
  {
   "cell_type": "markdown",
   "metadata": {},
   "source": [
    "## Creosote tables by species and functional type\n",
    "\n",
    "The last number here is total cover"
   ]
  },
  {
   "cell_type": "code",
   "execution_count": 73,
   "metadata": {},
   "outputs": [
    {
     "data": {
      "text/html": [
       "<table>\n",
       "<thead><tr><th scope=col>year</th><th scope=col>species</th><th scope=col>cover_cm</th><th scope=col>functionaltype</th><th scope=col>species2</th><th scope=col>pct_cover</th></tr></thead>\n",
       "<tbody>\n",
       "\t<tr><td>2017             </td><td>Amsonia          </td><td>  1.96           </td><td>shrub            </td><td>Thamnosma montana</td><td>0.00784          </td></tr>\n",
       "\t<tr><td>2017             </td><td>biocrust         </td><td>  7.67           </td><td>biocrust         </td><td>Biotic soil crust</td><td>0.03068          </td></tr>\n",
       "\t<tr><td>2017             </td><td>Burro bush       </td><td> 21.63           </td><td>shrub            </td><td>Ambrosia dumosa  </td><td>0.08652          </td></tr>\n",
       "\t<tr><td>2017             </td><td>creosote         </td><td> 38.32           </td><td>shrub            </td><td>Larrea tridentata</td><td>0.15328          </td></tr>\n",
       "\t<tr><td>2017             </td><td>hopsage          </td><td>  0.61           </td><td>shrub            </td><td>Grayia spinosa   </td><td>0.00244          </td></tr>\n",
       "\t<tr><td>2017             </td><td>soil             </td><td>170.86           </td><td>soil             </td><td>Bare soil        </td><td>0.68344          </td></tr>\n",
       "\t<tr><td>2017             </td><td>unk grass 2      </td><td>  8.81           </td><td>grass            </td><td>Festuca octoflora</td><td>0.03524          </td></tr>\n",
       "</tbody>\n",
       "</table>\n"
      ],
      "text/latex": [
       "\\begin{tabular}{r|llllll}\n",
       " year & species & cover\\_cm & functionaltype & species2 & pct\\_cover\\\\\n",
       "\\hline\n",
       "\t 2017              & Amsonia           &   1.96            & shrub             & Thamnosma montana & 0.00784          \\\\\n",
       "\t 2017              & biocrust          &   7.67            & biocrust          & Biotic soil crust & 0.03068          \\\\\n",
       "\t 2017              & Burro bush        &  21.63            & shrub             & Ambrosia dumosa   & 0.08652          \\\\\n",
       "\t 2017              & creosote          &  38.32            & shrub             & Larrea tridentata & 0.15328          \\\\\n",
       "\t 2017              & hopsage           &   0.61            & shrub             & Grayia spinosa    & 0.00244          \\\\\n",
       "\t 2017              & soil              & 170.86            & soil              & Bare soil         & 0.68344          \\\\\n",
       "\t 2017              & unk grass 2       &   8.81            & grass             & Festuca octoflora & 0.03524          \\\\\n",
       "\\end{tabular}\n"
      ],
      "text/markdown": [
       "\n",
       "year | species | cover_cm | functionaltype | species2 | pct_cover | \n",
       "|---|---|---|---|---|---|---|\n",
       "| 2017              | Amsonia           |   1.96            | shrub             | Thamnosma montana | 0.00784           | \n",
       "| 2017              | biocrust          |   7.67            | biocrust          | Biotic soil crust | 0.03068           | \n",
       "| 2017              | Burro bush        |  21.63            | shrub             | Ambrosia dumosa   | 0.08652           | \n",
       "| 2017              | creosote          |  38.32            | shrub             | Larrea tridentata | 0.15328           | \n",
       "| 2017              | hopsage           |   0.61            | shrub             | Grayia spinosa    | 0.00244           | \n",
       "| 2017              | soil              | 170.86            | soil              | Bare soil         | 0.68344           | \n",
       "| 2017              | unk grass 2       |   8.81            | grass             | Festuca octoflora | 0.03524           | \n",
       "\n",
       "\n"
      ],
      "text/plain": [
       "  year species     cover_cm functionaltype species2          pct_cover\n",
       "1 2017 Amsonia       1.96   shrub          Thamnosma montana 0.00784  \n",
       "2 2017 biocrust      7.67   biocrust       Biotic soil crust 0.03068  \n",
       "3 2017 Burro bush   21.63   shrub          Ambrosia dumosa   0.08652  \n",
       "4 2017 creosote     38.32   shrub          Larrea tridentata 0.15328  \n",
       "5 2017 hopsage       0.61   shrub          Grayia spinosa    0.00244  \n",
       "6 2017 soil        170.86   soil           Bare soil         0.68344  \n",
       "7 2017 unk grass 2   8.81   grass          Festuca octoflora 0.03524  "
      ]
     },
     "metadata": {},
     "output_type": "display_data"
    },
    {
     "data": {
      "text/html": [
       "<table>\n",
       "<thead><tr><th scope=col>functionaltype</th><th scope=col>pct_cover</th></tr></thead>\n",
       "<tbody>\n",
       "\t<tr><td>biocrust</td><td>0.03068 </td></tr>\n",
       "\t<tr><td>grass   </td><td>0.03524 </td></tr>\n",
       "\t<tr><td>shrub   </td><td>0.25008 </td></tr>\n",
       "\t<tr><td>soil    </td><td>0.68344 </td></tr>\n",
       "</tbody>\n",
       "</table>\n"
      ],
      "text/latex": [
       "\\begin{tabular}{r|ll}\n",
       " functionaltype & pct\\_cover\\\\\n",
       "\\hline\n",
       "\t biocrust & 0.03068 \\\\\n",
       "\t grass    & 0.03524 \\\\\n",
       "\t shrub    & 0.25008 \\\\\n",
       "\t soil     & 0.68344 \\\\\n",
       "\\end{tabular}\n"
      ],
      "text/markdown": [
       "\n",
       "functionaltype | pct_cover | \n",
       "|---|---|---|---|\n",
       "| biocrust | 0.03068  | \n",
       "| grass    | 0.03524  | \n",
       "| shrub    | 0.25008  | \n",
       "| soil     | 0.68344  | \n",
       "\n",
       "\n"
      ],
      "text/plain": [
       "  functionaltype pct_cover\n",
       "1 biocrust       0.03068  \n",
       "2 grass          0.03524  \n",
       "3 shrub          0.25008  \n",
       "4 soil           0.68344  "
      ]
     },
     "metadata": {},
     "output_type": "display_data"
    },
    {
     "data": {
      "text/html": [
       "0.31656"
      ],
      "text/latex": [
       "0.31656"
      ],
      "text/markdown": [
       "0.31656"
      ],
      "text/plain": [
       "[1] 0.31656"
      ]
     },
     "metadata": {},
     "output_type": "display_data"
    }
   ],
   "source": [
    "veg.sum\n",
    "veg.sum.ft\n",
    "1 - sum(veg.sum$pct_cover[veg.sum$species%in%c('soil')])"
   ]
  },
  {
   "cell_type": "markdown",
   "metadata": {},
   "source": [
    "## Joshua tree"
   ]
  },
  {
   "cell_type": "code",
   "execution_count": 74,
   "metadata": {},
   "outputs": [
    {
     "data": {
      "text/html": [
       "<table>\n",
       "<thead><tr><th scope=col>year</th><th scope=col>season</th><th scope=col>site</th><th scope=col>transect</th><th scope=col>start</th><th scope=col>stop</th><th scope=col>species</th><th scope=col>condition</th><th scope=col>notes</th></tr></thead>\n",
       "<tbody>\n",
       "\t<tr><td>2017       </td><td>winter     </td><td>JTree      </td><td>1          </td><td>0.00       </td><td>0.30       </td><td>soil       </td><td>           </td><td>NA         </td></tr>\n",
       "\t<tr><td>2017       </td><td>winter     </td><td>JTree      </td><td>1          </td><td>0.30       </td><td>0.38       </td><td>unk grass 1</td><td>           </td><td>NA         </td></tr>\n",
       "\t<tr><td>2017       </td><td>winter     </td><td>JTree      </td><td>1          </td><td>0.38       </td><td>1.10       </td><td>soil       </td><td>           </td><td>NA         </td></tr>\n",
       "\t<tr><td>2017       </td><td>winter     </td><td>JTree      </td><td>1          </td><td>1.10       </td><td>1.28       </td><td>Burro bush </td><td>           </td><td>NA         </td></tr>\n",
       "\t<tr><td>2017       </td><td>winter     </td><td>JTree      </td><td>1          </td><td>1.38       </td><td>1.50       </td><td>unk grass 1</td><td>           </td><td>NA         </td></tr>\n",
       "\t<tr><td>2017       </td><td>winter     </td><td>JTree      </td><td>1          </td><td>1.50       </td><td>1.67       </td><td>Burro bush </td><td>           </td><td>NA         </td></tr>\n",
       "</tbody>\n",
       "</table>\n"
      ],
      "text/latex": [
       "\\begin{tabular}{r|lllllllll}\n",
       " year & season & site & transect & start & stop & species & condition & notes\\\\\n",
       "\\hline\n",
       "\t 2017        & winter      & JTree       & 1           & 0.00        & 0.30        & soil        &             & NA         \\\\\n",
       "\t 2017        & winter      & JTree       & 1           & 0.30        & 0.38        & unk grass 1 &             & NA         \\\\\n",
       "\t 2017        & winter      & JTree       & 1           & 0.38        & 1.10        & soil        &             & NA         \\\\\n",
       "\t 2017        & winter      & JTree       & 1           & 1.10        & 1.28        & Burro bush  &             & NA         \\\\\n",
       "\t 2017        & winter      & JTree       & 1           & 1.38        & 1.50        & unk grass 1 &             & NA         \\\\\n",
       "\t 2017        & winter      & JTree       & 1           & 1.50        & 1.67        & Burro bush  &             & NA         \\\\\n",
       "\\end{tabular}\n"
      ],
      "text/markdown": [
       "\n",
       "year | season | site | transect | start | stop | species | condition | notes | \n",
       "|---|---|---|---|---|---|\n",
       "| 2017        | winter      | JTree       | 1           | 0.00        | 0.30        | soil        |             | NA          | \n",
       "| 2017        | winter      | JTree       | 1           | 0.30        | 0.38        | unk grass 1 |             | NA          | \n",
       "| 2017        | winter      | JTree       | 1           | 0.38        | 1.10        | soil        |             | NA          | \n",
       "| 2017        | winter      | JTree       | 1           | 1.10        | 1.28        | Burro bush  |             | NA          | \n",
       "| 2017        | winter      | JTree       | 1           | 1.38        | 1.50        | unk grass 1 |             | NA          | \n",
       "| 2017        | winter      | JTree       | 1           | 1.50        | 1.67        | Burro bush  |             | NA          | \n",
       "\n",
       "\n"
      ],
      "text/plain": [
       "  year season site  transect start stop species     condition notes\n",
       "1 2017 winter JTree 1        0.00  0.30 soil                  NA   \n",
       "2 2017 winter JTree 1        0.30  0.38 unk grass 1           NA   \n",
       "3 2017 winter JTree 1        0.38  1.10 soil                  NA   \n",
       "4 2017 winter JTree 1        1.10  1.28 Burro bush            NA   \n",
       "5 2017 winter JTree 1        1.38  1.50 unk grass 1           NA   \n",
       "6 2017 winter JTree 1        1.50  1.67 Burro bush            NA   "
      ]
     },
     "metadata": {},
     "output_type": "display_data"
    },
    {
     "data": {
      "text/html": [
       "630"
      ],
      "text/latex": [
       "630"
      ],
      "text/markdown": [
       "630"
      ],
      "text/plain": [
       "[1] 630"
      ]
     },
     "metadata": {},
     "output_type": "display_data"
    }
   ],
   "source": [
    "veg.raw <- read.csv(\"~/GD_berkeley/MojaveCarbon/Data/VegTransects//LineTransects_JTree.csv\", skip=1)\n",
    "head(veg.raw)\n",
    "\n",
    "###cleaning\n",
    "###########\n",
    "\n",
    "`%!in%` <- Negate(`%in%`) \n",
    "\n",
    "#veg.raw <- subset(veg.raw, species %!in% remove) \n",
    "nrow(veg.raw)\n",
    "#unique(veg.raw$species)\n",
    "\n",
    "# Remove rows with condition == \"dead\"\n",
    "# This removes lots of \"unknown shrub\" and \"unknown grass\" entries (for better or worse)\n",
    "veg.raw <- subset(veg.raw, condition != 'dead')\n",
    "\n",
    "\n",
    "####finding cover value per individual\n",
    "#######################################\n",
    "veg.raw$cover_cm <- veg.raw$stop - veg.raw$start\n",
    "\n",
    "#finding largest cover value between seasons \n",
    "veg.sum <- data.frame(summarise(group_by(veg.raw, year, species), cover_cm=sum(cover_cm)))\n",
    "veg.max <- data.frame(summarise(group_by(veg.sum, year, species), max.cover_cm = max(cover_cm)))\n",
    "\n",
    "veg.sum$functionaltype <- 'shrub'\n",
    "veg.sum$functionaltype[veg.sum$species%in%c('unk grass 1', 'Black grama grass', 'needle grass', 'muhly grass')] <- 'grass'\n",
    "veg.sum$functionaltype[veg.sum$species%in%c('joshua tree', 'mojave yucca')] <- 'tree (yucca)'\n",
    "veg.sum$functionaltype[veg.sum$species%in%c('forb', 'small mustard(alyssum)')] <- 'forb'\n",
    "veg.sum$functionaltype[veg.sum$species%in%c('echinocerius trig', 'pencil cholla', 'silver cholla')] <- 'cacti'\n",
    "veg.sum$functionaltype[veg.sum$species%in%c('soil')] <- 'soil'\n",
    "veg.sum$functionaltype[veg.sum$species%in%c('biocrust')] <- 'biocrust'\n",
    "\n",
    "# Rename some species that we now know\n",
    "veg.sum <- veg.sum %>% \n",
    "    mutate(species2 = fct_recode(species, 'Festuca octoflora' = 'unk grass 1',\n",
    "                                 'Stipa speciosa' = 'needle grass',\n",
    "                                 'Bouteloua ericoides' = 'Black grama grass',\n",
    "                                 'Muhlenbergia porteri' = 'muhly grass',\n",
    "                                 'Yucca brevifolia' = 'joshua tree',\n",
    "                                 'Yucca schidigera' = 'mojave yucca',\n",
    "                                 'Alyssum sp.' = 'small mustard(alyssum)',\n",
    "                                 'Echinocerius triglochidiatus' = 'echinocerius trig',\n",
    "                                 'Cylindropuntia ramossisima' = 'pencil cholla',\n",
    "                                 'Cylindropuntia echinocarpa' = 'silver cholla',\n",
    "                                 'Chrysothamnus nauseosus' = 'rubber brush',\n",
    "                                 'Ericameria sp.' = 'goldenbush',\n",
    "                                 'Lycium cooperi' = 'lycium cooperi',\n",
    "                                 'Amsonia dumosa' = 'Burro bush',\n",
    "                                 'Ephedra nevadensis' = 'ephedra',\n",
    "                                 'Menodora spinescens' = 'spiny menodora',\n",
    "                                 'Bare soil' = 'soil',\n",
    "                                 'Unknown forb' = 'forb'))\n",
    "\n",
    "veg.sum$pct_cover <- veg.sum$cover_cm/250\n",
    "\n",
    "veg.sum.ft <- data.frame(summarise(group_by(veg.sum, functionaltype), pct_cover=sum(pct_cover)))"
   ]
  },
  {
   "cell_type": "markdown",
   "metadata": {},
   "source": [
    "## Joshua tree tables by species and functional type\n",
    "\n",
    "The last number here is total cover"
   ]
  },
  {
   "cell_type": "code",
   "execution_count": 75,
   "metadata": {},
   "outputs": [
    {
     "data": {
      "text/html": [
       "<table>\n",
       "<thead><tr><th scope=col>year</th><th scope=col>species</th><th scope=col>cover_cm</th><th scope=col>functionaltype</th><th scope=col>species2</th><th scope=col>pct_cover</th></tr></thead>\n",
       "<tbody>\n",
       "\t<tr><td>2017                        </td><td>Black grama grass           </td><td> 16.540                     </td><td>grass                       </td><td>Bouteloua ericoides         </td><td>0.066160                    </td></tr>\n",
       "\t<tr><td>2017                        </td><td>Burro bush                  </td><td>  2.110                     </td><td>shrub                       </td><td>Amsonia dumosa              </td><td>0.008440                    </td></tr>\n",
       "\t<tr><td>2017                        </td><td>echinocerius trig           </td><td>  0.220                     </td><td>cacti                       </td><td>Echinocerius triglochidiatus</td><td>0.000880                    </td></tr>\n",
       "\t<tr><td>2017                        </td><td>ephedra                     </td><td> 20.780                     </td><td>shrub                       </td><td>Ephedra nevadensis          </td><td>0.083120                    </td></tr>\n",
       "\t<tr><td>2017                        </td><td>forb                        </td><td>  0.250                     </td><td>forb                        </td><td>Unknown forb                </td><td>0.001000                    </td></tr>\n",
       "\t<tr><td>2017                        </td><td>goldenbush                  </td><td>  3.360                     </td><td>shrub                       </td><td>Ericameria sp.              </td><td>0.013440                    </td></tr>\n",
       "\t<tr><td>2017                        </td><td>joshua tree                 </td><td>  4.340                     </td><td>tree (yucca)                </td><td>Yucca brevifolia            </td><td>0.017360                    </td></tr>\n",
       "\t<tr><td>2017                        </td><td>lycium cooperi              </td><td>  0.260                     </td><td>shrub                       </td><td>Lycium cooperi              </td><td>0.001040                    </td></tr>\n",
       "\t<tr><td>2017                        </td><td>mojave yucca                </td><td>  4.090                     </td><td>tree (yucca)                </td><td>Yucca schidigera            </td><td>0.016360                    </td></tr>\n",
       "\t<tr><td>2017                        </td><td>muhly grass                 </td><td>  6.820                     </td><td>grass                       </td><td>Muhlenbergia porteri        </td><td>0.027280                    </td></tr>\n",
       "\t<tr><td>2017                        </td><td>needle grass                </td><td> 48.481                     </td><td>grass                       </td><td>Stipa speciosa              </td><td>0.193924                    </td></tr>\n",
       "\t<tr><td>2017                        </td><td>pencil cholla               </td><td>  3.600                     </td><td>cacti                       </td><td>Cylindropuntia ramossisima  </td><td>0.014400                    </td></tr>\n",
       "\t<tr><td>2017                        </td><td>rubber brush                </td><td>  0.170                     </td><td>shrub                       </td><td>Chrysothamnus nauseosus     </td><td>0.000680                    </td></tr>\n",
       "\t<tr><td>2017                        </td><td>silver cholla               </td><td>  0.730                     </td><td>cacti                       </td><td>Cylindropuntia echinocarpa  </td><td>0.002920                    </td></tr>\n",
       "\t<tr><td>2017                        </td><td>small mustard(alyssum)      </td><td>  0.190                     </td><td>forb                        </td><td>Alyssum sp.                 </td><td>0.000760                    </td></tr>\n",
       "\t<tr><td>2017                        </td><td>soil                        </td><td>134.449                     </td><td>soil                        </td><td>Bare soil                   </td><td>0.537796                    </td></tr>\n",
       "\t<tr><td>2017                        </td><td>spiny menodora              </td><td>  2.570                     </td><td>shrub                       </td><td>Menodora spinescens         </td><td>0.010280                    </td></tr>\n",
       "\t<tr><td>2017                        </td><td>unk grass 1                 </td><td>  2.060                     </td><td>grass                       </td><td>Festuca octoflora           </td><td>0.008240                    </td></tr>\n",
       "</tbody>\n",
       "</table>\n"
      ],
      "text/latex": [
       "\\begin{tabular}{r|llllll}\n",
       " year & species & cover\\_cm & functionaltype & species2 & pct\\_cover\\\\\n",
       "\\hline\n",
       "\t 2017                         & Black grama grass            &  16.540                      & grass                        & Bouteloua ericoides          & 0.066160                    \\\\\n",
       "\t 2017                         & Burro bush                   &   2.110                      & shrub                        & Amsonia dumosa               & 0.008440                    \\\\\n",
       "\t 2017                         & echinocerius trig            &   0.220                      & cacti                        & Echinocerius triglochidiatus & 0.000880                    \\\\\n",
       "\t 2017                         & ephedra                      &  20.780                      & shrub                        & Ephedra nevadensis           & 0.083120                    \\\\\n",
       "\t 2017                         & forb                         &   0.250                      & forb                         & Unknown forb                 & 0.001000                    \\\\\n",
       "\t 2017                         & goldenbush                   &   3.360                      & shrub                        & Ericameria sp.               & 0.013440                    \\\\\n",
       "\t 2017                         & joshua tree                  &   4.340                      & tree (yucca)                 & Yucca brevifolia             & 0.017360                    \\\\\n",
       "\t 2017                         & lycium cooperi               &   0.260                      & shrub                        & Lycium cooperi               & 0.001040                    \\\\\n",
       "\t 2017                         & mojave yucca                 &   4.090                      & tree (yucca)                 & Yucca schidigera             & 0.016360                    \\\\\n",
       "\t 2017                         & muhly grass                  &   6.820                      & grass                        & Muhlenbergia porteri         & 0.027280                    \\\\\n",
       "\t 2017                         & needle grass                 &  48.481                      & grass                        & Stipa speciosa               & 0.193924                    \\\\\n",
       "\t 2017                         & pencil cholla                &   3.600                      & cacti                        & Cylindropuntia ramossisima   & 0.014400                    \\\\\n",
       "\t 2017                         & rubber brush                 &   0.170                      & shrub                        & Chrysothamnus nauseosus      & 0.000680                    \\\\\n",
       "\t 2017                         & silver cholla                &   0.730                      & cacti                        & Cylindropuntia echinocarpa   & 0.002920                    \\\\\n",
       "\t 2017                         & small mustard(alyssum)       &   0.190                      & forb                         & Alyssum sp.                  & 0.000760                    \\\\\n",
       "\t 2017                         & soil                         & 134.449                      & soil                         & Bare soil                    & 0.537796                    \\\\\n",
       "\t 2017                         & spiny menodora               &   2.570                      & shrub                        & Menodora spinescens          & 0.010280                    \\\\\n",
       "\t 2017                         & unk grass 1                  &   2.060                      & grass                        & Festuca octoflora            & 0.008240                    \\\\\n",
       "\\end{tabular}\n"
      ],
      "text/markdown": [
       "\n",
       "year | species | cover_cm | functionaltype | species2 | pct_cover | \n",
       "|---|---|---|---|---|---|---|---|---|---|---|---|---|---|---|---|---|---|\n",
       "| 2017                         | Black grama grass            |  16.540                      | grass                        | Bouteloua ericoides          | 0.066160                     | \n",
       "| 2017                         | Burro bush                   |   2.110                      | shrub                        | Amsonia dumosa               | 0.008440                     | \n",
       "| 2017                         | echinocerius trig            |   0.220                      | cacti                        | Echinocerius triglochidiatus | 0.000880                     | \n",
       "| 2017                         | ephedra                      |  20.780                      | shrub                        | Ephedra nevadensis           | 0.083120                     | \n",
       "| 2017                         | forb                         |   0.250                      | forb                         | Unknown forb                 | 0.001000                     | \n",
       "| 2017                         | goldenbush                   |   3.360                      | shrub                        | Ericameria sp.               | 0.013440                     | \n",
       "| 2017                         | joshua tree                  |   4.340                      | tree (yucca)                 | Yucca brevifolia             | 0.017360                     | \n",
       "| 2017                         | lycium cooperi               |   0.260                      | shrub                        | Lycium cooperi               | 0.001040                     | \n",
       "| 2017                         | mojave yucca                 |   4.090                      | tree (yucca)                 | Yucca schidigera             | 0.016360                     | \n",
       "| 2017                         | muhly grass                  |   6.820                      | grass                        | Muhlenbergia porteri         | 0.027280                     | \n",
       "| 2017                         | needle grass                 |  48.481                      | grass                        | Stipa speciosa               | 0.193924                     | \n",
       "| 2017                         | pencil cholla                |   3.600                      | cacti                        | Cylindropuntia ramossisima   | 0.014400                     | \n",
       "| 2017                         | rubber brush                 |   0.170                      | shrub                        | Chrysothamnus nauseosus      | 0.000680                     | \n",
       "| 2017                         | silver cholla                |   0.730                      | cacti                        | Cylindropuntia echinocarpa   | 0.002920                     | \n",
       "| 2017                         | small mustard(alyssum)       |   0.190                      | forb                         | Alyssum sp.                  | 0.000760                     | \n",
       "| 2017                         | soil                         | 134.449                      | soil                         | Bare soil                    | 0.537796                     | \n",
       "| 2017                         | spiny menodora               |   2.570                      | shrub                        | Menodora spinescens          | 0.010280                     | \n",
       "| 2017                         | unk grass 1                  |   2.060                      | grass                        | Festuca octoflora            | 0.008240                     | \n",
       "\n",
       "\n"
      ],
      "text/plain": [
       "   year species                cover_cm functionaltype\n",
       "1  2017 Black grama grass       16.540  grass         \n",
       "2  2017 Burro bush               2.110  shrub         \n",
       "3  2017 echinocerius trig        0.220  cacti         \n",
       "4  2017 ephedra                 20.780  shrub         \n",
       "5  2017 forb                     0.250  forb          \n",
       "6  2017 goldenbush               3.360  shrub         \n",
       "7  2017 joshua tree              4.340  tree (yucca)  \n",
       "8  2017 lycium cooperi           0.260  shrub         \n",
       "9  2017 mojave yucca             4.090  tree (yucca)  \n",
       "10 2017 muhly grass              6.820  grass         \n",
       "11 2017 needle grass            48.481  grass         \n",
       "12 2017 pencil cholla            3.600  cacti         \n",
       "13 2017 rubber brush             0.170  shrub         \n",
       "14 2017 silver cholla            0.730  cacti         \n",
       "15 2017 small mustard(alyssum)   0.190  forb          \n",
       "16 2017 soil                   134.449  soil          \n",
       "17 2017 spiny menodora           2.570  shrub         \n",
       "18 2017 unk grass 1              2.060  grass         \n",
       "   species2                     pct_cover\n",
       "1  Bouteloua ericoides          0.066160 \n",
       "2  Amsonia dumosa               0.008440 \n",
       "3  Echinocerius triglochidiatus 0.000880 \n",
       "4  Ephedra nevadensis           0.083120 \n",
       "5  Unknown forb                 0.001000 \n",
       "6  Ericameria sp.               0.013440 \n",
       "7  Yucca brevifolia             0.017360 \n",
       "8  Lycium cooperi               0.001040 \n",
       "9  Yucca schidigera             0.016360 \n",
       "10 Muhlenbergia porteri         0.027280 \n",
       "11 Stipa speciosa               0.193924 \n",
       "12 Cylindropuntia ramossisima   0.014400 \n",
       "13 Chrysothamnus nauseosus      0.000680 \n",
       "14 Cylindropuntia echinocarpa   0.002920 \n",
       "15 Alyssum sp.                  0.000760 \n",
       "16 Bare soil                    0.537796 \n",
       "17 Menodora spinescens          0.010280 \n",
       "18 Festuca octoflora            0.008240 "
      ]
     },
     "metadata": {},
     "output_type": "display_data"
    },
    {
     "data": {
      "text/html": [
       "<table>\n",
       "<thead><tr><th scope=col>functionaltype</th><th scope=col>pct_cover</th></tr></thead>\n",
       "<tbody>\n",
       "\t<tr><td>cacti       </td><td>0.018200    </td></tr>\n",
       "\t<tr><td>forb        </td><td>0.001760    </td></tr>\n",
       "\t<tr><td>grass       </td><td>0.295604    </td></tr>\n",
       "\t<tr><td>shrub       </td><td>0.117000    </td></tr>\n",
       "\t<tr><td>soil        </td><td>0.537796    </td></tr>\n",
       "\t<tr><td>tree (yucca)</td><td>0.033720    </td></tr>\n",
       "</tbody>\n",
       "</table>\n"
      ],
      "text/latex": [
       "\\begin{tabular}{r|ll}\n",
       " functionaltype & pct\\_cover\\\\\n",
       "\\hline\n",
       "\t cacti        & 0.018200    \\\\\n",
       "\t forb         & 0.001760    \\\\\n",
       "\t grass        & 0.295604    \\\\\n",
       "\t shrub        & 0.117000    \\\\\n",
       "\t soil         & 0.537796    \\\\\n",
       "\t tree (yucca) & 0.033720    \\\\\n",
       "\\end{tabular}\n"
      ],
      "text/markdown": [
       "\n",
       "functionaltype | pct_cover | \n",
       "|---|---|---|---|---|---|\n",
       "| cacti        | 0.018200     | \n",
       "| forb         | 0.001760     | \n",
       "| grass        | 0.295604     | \n",
       "| shrub        | 0.117000     | \n",
       "| soil         | 0.537796     | \n",
       "| tree (yucca) | 0.033720     | \n",
       "\n",
       "\n"
      ],
      "text/plain": [
       "  functionaltype pct_cover\n",
       "1 cacti          0.018200 \n",
       "2 forb           0.001760 \n",
       "3 grass          0.295604 \n",
       "4 shrub          0.117000 \n",
       "5 soil           0.537796 \n",
       "6 tree (yucca)   0.033720 "
      ]
     },
     "metadata": {},
     "output_type": "display_data"
    },
    {
     "data": {
      "text/html": [
       "0.462204"
      ],
      "text/latex": [
       "0.462204"
      ],
      "text/markdown": [
       "0.462204"
      ],
      "text/plain": [
       "[1] 0.462204"
      ]
     },
     "metadata": {},
     "output_type": "display_data"
    }
   ],
   "source": [
    "veg.sum\n",
    "veg.sum.ft\n",
    "1 - sum(veg.sum$pct_cover[veg.sum$species%in%c('soil')])"
   ]
  },
  {
   "cell_type": "markdown",
   "metadata": {},
   "source": [
    "## Pinyon Juniper"
   ]
  },
  {
   "cell_type": "code",
   "execution_count": 76,
   "metadata": {},
   "outputs": [
    {
     "data": {
      "text/html": [
       "<table>\n",
       "<thead><tr><th scope=col>year</th><th scope=col>season</th><th scope=col>site</th><th scope=col>transect</th><th scope=col>start</th><th scope=col>stop</th><th scope=col>species</th><th scope=col>condition</th><th scope=col>notes</th></tr></thead>\n",
       "<tbody>\n",
       "\t<tr><td>2017             </td><td>winter           </td><td>PJ               </td><td>1                </td><td>0.00             </td><td>0.44             </td><td>soil             </td><td>                 </td><td>                 </td></tr>\n",
       "\t<tr><td>2017             </td><td>winter           </td><td>PJ               </td><td>1                </td><td>0.44             </td><td>0.53             </td><td>Black grama grass</td><td>                 </td><td>                 </td></tr>\n",
       "\t<tr><td>2017             </td><td>winter           </td><td>PJ               </td><td>1                </td><td>0.53             </td><td>0.79             </td><td>biocrust         </td><td>                 </td><td>                 </td></tr>\n",
       "\t<tr><td>2017             </td><td>winter           </td><td>PJ               </td><td>1                </td><td>0.79             </td><td>0.94             </td><td>soil             </td><td>                 </td><td>                 </td></tr>\n",
       "\t<tr><td>2017             </td><td>winter           </td><td>PJ               </td><td>1                </td><td>0.94             </td><td>1.37             </td><td>buckwheat        </td><td>                 </td><td>                 </td></tr>\n",
       "\t<tr><td>2017             </td><td>winter           </td><td>PJ               </td><td>1                </td><td>1.37             </td><td>1.44             </td><td>woody debris     </td><td>                 </td><td>                 </td></tr>\n",
       "</tbody>\n",
       "</table>\n"
      ],
      "text/latex": [
       "\\begin{tabular}{r|lllllllll}\n",
       " year & season & site & transect & start & stop & species & condition & notes\\\\\n",
       "\\hline\n",
       "\t 2017              & winter            & PJ                & 1                 & 0.00              & 0.44              & soil              &                   &                  \\\\\n",
       "\t 2017              & winter            & PJ                & 1                 & 0.44              & 0.53              & Black grama grass &                   &                  \\\\\n",
       "\t 2017              & winter            & PJ                & 1                 & 0.53              & 0.79              & biocrust          &                   &                  \\\\\n",
       "\t 2017              & winter            & PJ                & 1                 & 0.79              & 0.94              & soil              &                   &                  \\\\\n",
       "\t 2017              & winter            & PJ                & 1                 & 0.94              & 1.37              & buckwheat         &                   &                  \\\\\n",
       "\t 2017              & winter            & PJ                & 1                 & 1.37              & 1.44              & woody debris      &                   &                  \\\\\n",
       "\\end{tabular}\n"
      ],
      "text/markdown": [
       "\n",
       "year | season | site | transect | start | stop | species | condition | notes | \n",
       "|---|---|---|---|---|---|\n",
       "| 2017              | winter            | PJ                | 1                 | 0.00              | 0.44              | soil              |                   |                   | \n",
       "| 2017              | winter            | PJ                | 1                 | 0.44              | 0.53              | Black grama grass |                   |                   | \n",
       "| 2017              | winter            | PJ                | 1                 | 0.53              | 0.79              | biocrust          |                   |                   | \n",
       "| 2017              | winter            | PJ                | 1                 | 0.79              | 0.94              | soil              |                   |                   | \n",
       "| 2017              | winter            | PJ                | 1                 | 0.94              | 1.37              | buckwheat         |                   |                   | \n",
       "| 2017              | winter            | PJ                | 1                 | 1.37              | 1.44              | woody debris      |                   |                   | \n",
       "\n",
       "\n"
      ],
      "text/plain": [
       "  year season site transect start stop species           condition notes\n",
       "1 2017 winter PJ   1        0.00  0.44 soil                             \n",
       "2 2017 winter PJ   1        0.44  0.53 Black grama grass                \n",
       "3 2017 winter PJ   1        0.53  0.79 biocrust                         \n",
       "4 2017 winter PJ   1        0.79  0.94 soil                             \n",
       "5 2017 winter PJ   1        0.94  1.37 buckwheat                        \n",
       "6 2017 winter PJ   1        1.37  1.44 woody debris                     "
      ]
     },
     "metadata": {},
     "output_type": "display_data"
    },
    {
     "data": {
      "text/html": [
       "569"
      ],
      "text/latex": [
       "569"
      ],
      "text/markdown": [
       "569"
      ],
      "text/plain": [
       "[1] 569"
      ]
     },
     "metadata": {},
     "output_type": "display_data"
    }
   ],
   "source": [
    "veg.raw <- read.csv(\"~/GD_berkeley/MojaveCarbon/Data/VegTransects//LineTransects_PJ.csv\", skip=1)\n",
    "head(veg.raw)\n",
    "\n",
    "###cleaning\n",
    "###########\n",
    "\n",
    "`%!in%` <- Negate(`%in%`) \n",
    "\n",
    "#veg.raw <- subset(veg.raw, species %!in% remove) \n",
    "nrow(veg.raw)\n",
    "#unique(veg.raw$species)\n",
    "\n",
    "veg.raw <- subset(veg.raw, condition != 'dead')\n",
    "\n",
    "\n",
    "####finding cover value per individual\n",
    "#######################################\n",
    "veg.raw$cover_cm <- veg.raw$stop - veg.raw$start\n",
    "\n",
    "#finding largest cover value between seasons \n",
    "veg.sum <- data.frame(summarise(group_by(veg.raw, year, species), cover_cm=sum(cover_cm)))\n",
    "veg.max <- data.frame(summarise(group_by(veg.sum, year, species), max.cover_cm = max(cover_cm)))\n",
    "\n",
    "veg.sum$functionaltype <- 'shrub'\n",
    "veg.sum$functionaltype[veg.sum$species%in%c('Indian rice grass','Black grama grass','Blue grama grass','needle grass','muhly grass')] <- 'grass'\n",
    "veg.sum$functionaltype[veg.sum$species%in%c('juniper')] <- 'tree (Juniper)'\n",
    "veg.sum$functionaltype[veg.sum$species%in%c('forb', 'small mustard(alyssum)')] <- 'forb'\n",
    "veg.sum$functionaltype[veg.sum$species%in%c('echinocerius trig', 'pencil cholla', 'cholla')] <- 'cacti'\n",
    "veg.sum$functionaltype[veg.sum$species%in%c('soil')] <- 'soil'\n",
    "veg.sum$functionaltype[veg.sum$species%in%c('biocrust')] <- 'biocrust'\n",
    "\n",
    "# Rename some species that we now know\n",
    "veg.sum <- veg.sum %>% \n",
    "    mutate(species2 = fct_recode(species, 'Bouteloua graminoides' = 'Blue grama grass',\n",
    "                                 'Stipa speciosa' = 'needle grass',\n",
    "                                 'Bouteloua ericoides' = 'Black grama grass',\n",
    "                                 'Muhlenbergia porteri' = 'muhly grass',\n",
    "                                 'Achnatherum hymenoides' = 'Indian rice grass',\n",
    "                                 'Eriogonum sp.' = 'buckwheat',\n",
    "                                 'Yucca baccata' = 'banana yucca',\n",
    "                                 'Juniperus osteosperma' = 'juniper',\n",
    "                                 'Artemisia tridentata' = 'big sage',\n",
    "                                 'Atriplex canescens' = 'four wing salt bush',\n",
    "                                 'Cylindropuntia echinocarpa' = 'cholla',\n",
    "                                 'Purshia mexicana' = 'cliff rose',\n",
    "                                 'Ericameria sp.' = 'goldenbush',\n",
    "                                 'Gutierrezia sarothrae' = 'snakeweed',\n",
    "                                 'Salvia dorrii' = 'desert sage',\n",
    "                                 'Ephedra nevadensis' = 'ephedra',\n",
    "                                 'Grayia spinosa' = 'hopsage',\n",
    "                                 'Bare soil' = 'soil',\n",
    "                                 'Biotic soil crust' = 'biocrust',\n",
    "                                 'Unknown forb' = 'forb',\n",
    "                                 'Unknown shrub' = 'unk shrub 1',\n",
    "                                 'Woody debris' = 'woody debris'))\n",
    "\n",
    "veg.sum$pct_cover <- veg.sum$cover_cm/250\n",
    "\n",
    "veg.sum.ft <- data.frame(summarise(group_by(veg.sum, functionaltype), pct_cover=sum(pct_cover)))"
   ]
  },
  {
   "cell_type": "markdown",
   "metadata": {},
   "source": [
    "## PJ tables by species and functional type\n",
    "\n",
    "The last number here is total cover"
   ]
  },
  {
   "cell_type": "code",
   "execution_count": 77,
   "metadata": {},
   "outputs": [
    {
     "data": {
      "text/html": [
       "<table>\n",
       "<thead><tr><th scope=col>year</th><th scope=col>species</th><th scope=col>cover_cm</th><th scope=col>functionaltype</th><th scope=col>species2</th><th scope=col>pct_cover</th></tr></thead>\n",
       "<tbody>\n",
       "\t<tr><td>2017                      </td><td>banana yucca              </td><td>  2.73                    </td><td>shrub                     </td><td>Yucca baccata             </td><td>0.01092                   </td></tr>\n",
       "\t<tr><td>2017                      </td><td>big sage                  </td><td> 21.94                    </td><td>shrub                     </td><td>Artemisia tridentata      </td><td>0.08776                   </td></tr>\n",
       "\t<tr><td>2017                      </td><td>biocrust                  </td><td>  0.96                    </td><td>biocrust                  </td><td>Biotic soil crust         </td><td>0.00384                   </td></tr>\n",
       "\t<tr><td>2017                      </td><td>Black grama grass         </td><td>  9.81                    </td><td>grass                     </td><td>Bouteloua ericoides       </td><td>0.03924                   </td></tr>\n",
       "\t<tr><td>2017                      </td><td>Blue grama grass          </td><td>  5.28                    </td><td>grass                     </td><td>Bouteloua graminoides     </td><td>0.02112                   </td></tr>\n",
       "\t<tr><td>2017                      </td><td>buckwheat                 </td><td> 18.77                    </td><td>shrub                     </td><td>Eriogonum sp.             </td><td>0.07508                   </td></tr>\n",
       "\t<tr><td>2017                      </td><td>cholla                    </td><td>  1.47                    </td><td>cacti                     </td><td>Cylindropuntia echinocarpa</td><td>0.00588                   </td></tr>\n",
       "\t<tr><td>2017                      </td><td>cliff rose                </td><td>  2.54                    </td><td>shrub                     </td><td>Purshia mexicana          </td><td>0.01016                   </td></tr>\n",
       "\t<tr><td>2017                      </td><td>desert sage               </td><td> 14.17                    </td><td>shrub                     </td><td>Salvia dorrii             </td><td>0.05668                   </td></tr>\n",
       "\t<tr><td>2017                      </td><td>ephedra                   </td><td> 14.40                    </td><td>shrub                     </td><td>Ephedra nevadensis        </td><td>0.05760                   </td></tr>\n",
       "\t<tr><td>2017                      </td><td>forb                      </td><td>  1.05                    </td><td>forb                      </td><td>Unknown forb              </td><td>0.00420                   </td></tr>\n",
       "\t<tr><td>2017                      </td><td>four wing salt bush       </td><td>  0.38                    </td><td>shrub                     </td><td>Atriplex canescens        </td><td>0.00152                   </td></tr>\n",
       "\t<tr><td>2017                      </td><td>goldenbush                </td><td>  5.11                    </td><td>shrub                     </td><td>Ericameria sp.            </td><td>0.02044                   </td></tr>\n",
       "\t<tr><td>2017                      </td><td>hopsage                   </td><td>  3.48                    </td><td>shrub                     </td><td>Grayia spinosa            </td><td>0.01392                   </td></tr>\n",
       "\t<tr><td>2017                      </td><td>Indian rice grass         </td><td>  6.40                    </td><td>grass                     </td><td>Achnatherum hymenoides    </td><td>0.02560                   </td></tr>\n",
       "\t<tr><td>2017                      </td><td>juniper                   </td><td> 12.00                    </td><td>tree (Juniper)            </td><td>Juniperus osteosperma     </td><td>0.04800                   </td></tr>\n",
       "\t<tr><td>2017                      </td><td>muhly grass               </td><td>  7.70                    </td><td>grass                     </td><td>Muhlenbergia porteri      </td><td>0.03080                   </td></tr>\n",
       "\t<tr><td>2017                      </td><td>needle grass              </td><td>  2.27                    </td><td>grass                     </td><td>Stipa speciosa            </td><td>0.00908                   </td></tr>\n",
       "\t<tr><td>2017                      </td><td>snakeweed                 </td><td>  8.29                    </td><td>shrub                     </td><td>Gutierrezia sarothrae     </td><td>0.03316                   </td></tr>\n",
       "\t<tr><td>2017                      </td><td>soil                      </td><td>111.93                    </td><td>soil                      </td><td>Bare soil                 </td><td>0.44772                   </td></tr>\n",
       "\t<tr><td>2017                      </td><td>unk shrub 1               </td><td>  0.92                    </td><td>shrub                     </td><td>Unknown shrub             </td><td>0.00368                   </td></tr>\n",
       "\t<tr><td>2017                      </td><td>woody debris              </td><td> 11.12                    </td><td>shrub                     </td><td>Woody debris              </td><td>0.04448                   </td></tr>\n",
       "</tbody>\n",
       "</table>\n"
      ],
      "text/latex": [
       "\\begin{tabular}{r|llllll}\n",
       " year & species & cover\\_cm & functionaltype & species2 & pct\\_cover\\\\\n",
       "\\hline\n",
       "\t 2017                       & banana yucca               &   2.73                     & shrub                      & Yucca baccata              & 0.01092                   \\\\\n",
       "\t 2017                       & big sage                   &  21.94                     & shrub                      & Artemisia tridentata       & 0.08776                   \\\\\n",
       "\t 2017                       & biocrust                   &   0.96                     & biocrust                   & Biotic soil crust          & 0.00384                   \\\\\n",
       "\t 2017                       & Black grama grass          &   9.81                     & grass                      & Bouteloua ericoides        & 0.03924                   \\\\\n",
       "\t 2017                       & Blue grama grass           &   5.28                     & grass                      & Bouteloua graminoides      & 0.02112                   \\\\\n",
       "\t 2017                       & buckwheat                  &  18.77                     & shrub                      & Eriogonum sp.              & 0.07508                   \\\\\n",
       "\t 2017                       & cholla                     &   1.47                     & cacti                      & Cylindropuntia echinocarpa & 0.00588                   \\\\\n",
       "\t 2017                       & cliff rose                 &   2.54                     & shrub                      & Purshia mexicana           & 0.01016                   \\\\\n",
       "\t 2017                       & desert sage                &  14.17                     & shrub                      & Salvia dorrii              & 0.05668                   \\\\\n",
       "\t 2017                       & ephedra                    &  14.40                     & shrub                      & Ephedra nevadensis         & 0.05760                   \\\\\n",
       "\t 2017                       & forb                       &   1.05                     & forb                       & Unknown forb               & 0.00420                   \\\\\n",
       "\t 2017                       & four wing salt bush        &   0.38                     & shrub                      & Atriplex canescens         & 0.00152                   \\\\\n",
       "\t 2017                       & goldenbush                 &   5.11                     & shrub                      & Ericameria sp.             & 0.02044                   \\\\\n",
       "\t 2017                       & hopsage                    &   3.48                     & shrub                      & Grayia spinosa             & 0.01392                   \\\\\n",
       "\t 2017                       & Indian rice grass          &   6.40                     & grass                      & Achnatherum hymenoides     & 0.02560                   \\\\\n",
       "\t 2017                       & juniper                    &  12.00                     & tree (Juniper)             & Juniperus osteosperma      & 0.04800                   \\\\\n",
       "\t 2017                       & muhly grass                &   7.70                     & grass                      & Muhlenbergia porteri       & 0.03080                   \\\\\n",
       "\t 2017                       & needle grass               &   2.27                     & grass                      & Stipa speciosa             & 0.00908                   \\\\\n",
       "\t 2017                       & snakeweed                  &   8.29                     & shrub                      & Gutierrezia sarothrae      & 0.03316                   \\\\\n",
       "\t 2017                       & soil                       & 111.93                     & soil                       & Bare soil                  & 0.44772                   \\\\\n",
       "\t 2017                       & unk shrub 1                &   0.92                     & shrub                      & Unknown shrub              & 0.00368                   \\\\\n",
       "\t 2017                       & woody debris               &  11.12                     & shrub                      & Woody debris               & 0.04448                   \\\\\n",
       "\\end{tabular}\n"
      ],
      "text/markdown": [
       "\n",
       "year | species | cover_cm | functionaltype | species2 | pct_cover | \n",
       "|---|---|---|---|---|---|---|---|---|---|---|---|---|---|---|---|---|---|---|---|---|---|\n",
       "| 2017                       | banana yucca               |   2.73                     | shrub                      | Yucca baccata              | 0.01092                    | \n",
       "| 2017                       | big sage                   |  21.94                     | shrub                      | Artemisia tridentata       | 0.08776                    | \n",
       "| 2017                       | biocrust                   |   0.96                     | biocrust                   | Biotic soil crust          | 0.00384                    | \n",
       "| 2017                       | Black grama grass          |   9.81                     | grass                      | Bouteloua ericoides        | 0.03924                    | \n",
       "| 2017                       | Blue grama grass           |   5.28                     | grass                      | Bouteloua graminoides      | 0.02112                    | \n",
       "| 2017                       | buckwheat                  |  18.77                     | shrub                      | Eriogonum sp.              | 0.07508                    | \n",
       "| 2017                       | cholla                     |   1.47                     | cacti                      | Cylindropuntia echinocarpa | 0.00588                    | \n",
       "| 2017                       | cliff rose                 |   2.54                     | shrub                      | Purshia mexicana           | 0.01016                    | \n",
       "| 2017                       | desert sage                |  14.17                     | shrub                      | Salvia dorrii              | 0.05668                    | \n",
       "| 2017                       | ephedra                    |  14.40                     | shrub                      | Ephedra nevadensis         | 0.05760                    | \n",
       "| 2017                       | forb                       |   1.05                     | forb                       | Unknown forb               | 0.00420                    | \n",
       "| 2017                       | four wing salt bush        |   0.38                     | shrub                      | Atriplex canescens         | 0.00152                    | \n",
       "| 2017                       | goldenbush                 |   5.11                     | shrub                      | Ericameria sp.             | 0.02044                    | \n",
       "| 2017                       | hopsage                    |   3.48                     | shrub                      | Grayia spinosa             | 0.01392                    | \n",
       "| 2017                       | Indian rice grass          |   6.40                     | grass                      | Achnatherum hymenoides     | 0.02560                    | \n",
       "| 2017                       | juniper                    |  12.00                     | tree (Juniper)             | Juniperus osteosperma      | 0.04800                    | \n",
       "| 2017                       | muhly grass                |   7.70                     | grass                      | Muhlenbergia porteri       | 0.03080                    | \n",
       "| 2017                       | needle grass               |   2.27                     | grass                      | Stipa speciosa             | 0.00908                    | \n",
       "| 2017                       | snakeweed                  |   8.29                     | shrub                      | Gutierrezia sarothrae      | 0.03316                    | \n",
       "| 2017                       | soil                       | 111.93                     | soil                       | Bare soil                  | 0.44772                    | \n",
       "| 2017                       | unk shrub 1                |   0.92                     | shrub                      | Unknown shrub              | 0.00368                    | \n",
       "| 2017                       | woody debris               |  11.12                     | shrub                      | Woody debris               | 0.04448                    | \n",
       "\n",
       "\n"
      ],
      "text/plain": [
       "   year species             cover_cm functionaltype species2                  \n",
       "1  2017 banana yucca          2.73   shrub          Yucca baccata             \n",
       "2  2017 big sage             21.94   shrub          Artemisia tridentata      \n",
       "3  2017 biocrust              0.96   biocrust       Biotic soil crust         \n",
       "4  2017 Black grama grass     9.81   grass          Bouteloua ericoides       \n",
       "5  2017 Blue grama grass      5.28   grass          Bouteloua graminoides     \n",
       "6  2017 buckwheat            18.77   shrub          Eriogonum sp.             \n",
       "7  2017 cholla                1.47   cacti          Cylindropuntia echinocarpa\n",
       "8  2017 cliff rose            2.54   shrub          Purshia mexicana          \n",
       "9  2017 desert sage          14.17   shrub          Salvia dorrii             \n",
       "10 2017 ephedra              14.40   shrub          Ephedra nevadensis        \n",
       "11 2017 forb                  1.05   forb           Unknown forb              \n",
       "12 2017 four wing salt bush   0.38   shrub          Atriplex canescens        \n",
       "13 2017 goldenbush            5.11   shrub          Ericameria sp.            \n",
       "14 2017 hopsage               3.48   shrub          Grayia spinosa            \n",
       "15 2017 Indian rice grass     6.40   grass          Achnatherum hymenoides    \n",
       "16 2017 juniper              12.00   tree (Juniper) Juniperus osteosperma     \n",
       "17 2017 muhly grass           7.70   grass          Muhlenbergia porteri      \n",
       "18 2017 needle grass          2.27   grass          Stipa speciosa            \n",
       "19 2017 snakeweed             8.29   shrub          Gutierrezia sarothrae     \n",
       "20 2017 soil                111.93   soil           Bare soil                 \n",
       "21 2017 unk shrub 1           0.92   shrub          Unknown shrub             \n",
       "22 2017 woody debris         11.12   shrub          Woody debris              \n",
       "   pct_cover\n",
       "1  0.01092  \n",
       "2  0.08776  \n",
       "3  0.00384  \n",
       "4  0.03924  \n",
       "5  0.02112  \n",
       "6  0.07508  \n",
       "7  0.00588  \n",
       "8  0.01016  \n",
       "9  0.05668  \n",
       "10 0.05760  \n",
       "11 0.00420  \n",
       "12 0.00152  \n",
       "13 0.02044  \n",
       "14 0.01392  \n",
       "15 0.02560  \n",
       "16 0.04800  \n",
       "17 0.03080  \n",
       "18 0.00908  \n",
       "19 0.03316  \n",
       "20 0.44772  \n",
       "21 0.00368  \n",
       "22 0.04448  "
      ]
     },
     "metadata": {},
     "output_type": "display_data"
    },
    {
     "data": {
      "text/html": [
       "<table>\n",
       "<thead><tr><th scope=col>functionaltype</th><th scope=col>pct_cover</th></tr></thead>\n",
       "<tbody>\n",
       "\t<tr><td>biocrust      </td><td>0.00384       </td></tr>\n",
       "\t<tr><td>cacti         </td><td>0.00588       </td></tr>\n",
       "\t<tr><td>forb          </td><td>0.00420       </td></tr>\n",
       "\t<tr><td>grass         </td><td>0.12584       </td></tr>\n",
       "\t<tr><td>shrub         </td><td>0.41540       </td></tr>\n",
       "\t<tr><td>soil          </td><td>0.44772       </td></tr>\n",
       "\t<tr><td>tree (Juniper)</td><td>0.04800       </td></tr>\n",
       "</tbody>\n",
       "</table>\n"
      ],
      "text/latex": [
       "\\begin{tabular}{r|ll}\n",
       " functionaltype & pct\\_cover\\\\\n",
       "\\hline\n",
       "\t biocrust       & 0.00384       \\\\\n",
       "\t cacti          & 0.00588       \\\\\n",
       "\t forb           & 0.00420       \\\\\n",
       "\t grass          & 0.12584       \\\\\n",
       "\t shrub          & 0.41540       \\\\\n",
       "\t soil           & 0.44772       \\\\\n",
       "\t tree (Juniper) & 0.04800       \\\\\n",
       "\\end{tabular}\n"
      ],
      "text/markdown": [
       "\n",
       "functionaltype | pct_cover | \n",
       "|---|---|---|---|---|---|---|\n",
       "| biocrust       | 0.00384        | \n",
       "| cacti          | 0.00588        | \n",
       "| forb           | 0.00420        | \n",
       "| grass          | 0.12584        | \n",
       "| shrub          | 0.41540        | \n",
       "| soil           | 0.44772        | \n",
       "| tree (Juniper) | 0.04800        | \n",
       "\n",
       "\n"
      ],
      "text/plain": [
       "  functionaltype pct_cover\n",
       "1 biocrust       0.00384  \n",
       "2 cacti          0.00588  \n",
       "3 forb           0.00420  \n",
       "4 grass          0.12584  \n",
       "5 shrub          0.41540  \n",
       "6 soil           0.44772  \n",
       "7 tree (Juniper) 0.04800  "
      ]
     },
     "metadata": {},
     "output_type": "display_data"
    },
    {
     "data": {
      "text/html": [
       "0.55228"
      ],
      "text/latex": [
       "0.55228"
      ],
      "text/markdown": [
       "0.55228"
      ],
      "text/plain": [
       "[1] 0.55228"
      ]
     },
     "metadata": {},
     "output_type": "display_data"
    }
   ],
   "source": [
    "veg.sum\n",
    "veg.sum.ft\n",
    "1 - sum(veg.sum$pct_cover[veg.sum$species%in%c('soil')])"
   ]
  }
 ],
 "metadata": {
  "anaconda-cloud": {},
  "kernelspec": {
   "display_name": "R",
   "language": "R",
   "name": "ir"
  },
  "language_info": {
   "codemirror_mode": "r",
   "file_extension": ".r",
   "mimetype": "text/x-r-source",
   "name": "R",
   "pygments_lexer": "r",
   "version": "3.5.2"
  }
 },
 "nbformat": 4,
 "nbformat_minor": 2
}
